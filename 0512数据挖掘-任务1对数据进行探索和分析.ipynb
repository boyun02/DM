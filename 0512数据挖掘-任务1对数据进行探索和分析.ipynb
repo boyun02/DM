{
 "cells": [
  {
   "cell_type": "markdown",
   "metadata": {},
   "source": [
    "# 数据探索和分析"
   ]
  },
  {
   "cell_type": "markdown",
   "metadata": {},
   "source": [
    "## 导入数据"
   ]
  },
  {
   "cell_type": "code",
   "execution_count": 1,
   "metadata": {},
   "outputs": [],
   "source": [
    "import pandas as pd\n",
    "import numpy as np"
   ]
  },
  {
   "cell_type": "code",
   "execution_count": 2,
   "metadata": {},
   "outputs": [],
   "source": [
    "df = pd.read_csv(r'C:\\Users\\Administrator\\Desktop\\data.csv',encoding='gbk')"
   ]
  },
  {
   "cell_type": "code",
   "execution_count": 3,
   "metadata": {},
   "outputs": [
    {
     "data": {
      "text/html": [
       "<div>\n",
       "<style scoped>\n",
       "    .dataframe tbody tr th:only-of-type {\n",
       "        vertical-align: middle;\n",
       "    }\n",
       "\n",
       "    .dataframe tbody tr th {\n",
       "        vertical-align: top;\n",
       "    }\n",
       "\n",
       "    .dataframe thead th {\n",
       "        text-align: right;\n",
       "    }\n",
       "</style>\n",
       "<table border=\"1\" class=\"dataframe\">\n",
       "  <thead>\n",
       "    <tr style=\"text-align: right;\">\n",
       "      <th></th>\n",
       "      <th>Unnamed: 0</th>\n",
       "      <th>custid</th>\n",
       "      <th>trade_no</th>\n",
       "      <th>bank_card_no</th>\n",
       "      <th>low_volume_percent</th>\n",
       "      <th>middle_volume_percent</th>\n",
       "      <th>take_amount_in_later_12_month_highest</th>\n",
       "      <th>trans_amount_increase_rate_lately</th>\n",
       "      <th>trans_activity_month</th>\n",
       "      <th>trans_activity_day</th>\n",
       "      <th>...</th>\n",
       "      <th>loans_max_limit</th>\n",
       "      <th>loans_avg_limit</th>\n",
       "      <th>consfin_credit_limit</th>\n",
       "      <th>consfin_credibility</th>\n",
       "      <th>consfin_org_count_current</th>\n",
       "      <th>consfin_product_count</th>\n",
       "      <th>consfin_max_limit</th>\n",
       "      <th>consfin_avg_limit</th>\n",
       "      <th>latest_query_day</th>\n",
       "      <th>loans_latest_day</th>\n",
       "    </tr>\n",
       "  </thead>\n",
       "  <tbody>\n",
       "    <tr>\n",
       "      <th>0</th>\n",
       "      <td>5</td>\n",
       "      <td>2791858</td>\n",
       "      <td>2.018050e+31</td>\n",
       "      <td>卡号1</td>\n",
       "      <td>0.01</td>\n",
       "      <td>0.99</td>\n",
       "      <td>0</td>\n",
       "      <td>0.90</td>\n",
       "      <td>0.55</td>\n",
       "      <td>0.313</td>\n",
       "      <td>...</td>\n",
       "      <td>2900.0</td>\n",
       "      <td>1688.0</td>\n",
       "      <td>1200.0</td>\n",
       "      <td>75.0</td>\n",
       "      <td>1.0</td>\n",
       "      <td>2.0</td>\n",
       "      <td>1200.0</td>\n",
       "      <td>1200.0</td>\n",
       "      <td>12.0</td>\n",
       "      <td>18.0</td>\n",
       "    </tr>\n",
       "    <tr>\n",
       "      <th>1</th>\n",
       "      <td>10</td>\n",
       "      <td>534047</td>\n",
       "      <td>2.018050e+31</td>\n",
       "      <td>卡号1</td>\n",
       "      <td>0.02</td>\n",
       "      <td>0.94</td>\n",
       "      <td>2000</td>\n",
       "      <td>1.28</td>\n",
       "      <td>1.00</td>\n",
       "      <td>0.458</td>\n",
       "      <td>...</td>\n",
       "      <td>3500.0</td>\n",
       "      <td>1758.0</td>\n",
       "      <td>15100.0</td>\n",
       "      <td>80.0</td>\n",
       "      <td>5.0</td>\n",
       "      <td>6.0</td>\n",
       "      <td>22800.0</td>\n",
       "      <td>9360.0</td>\n",
       "      <td>4.0</td>\n",
       "      <td>2.0</td>\n",
       "    </tr>\n",
       "    <tr>\n",
       "      <th>2</th>\n",
       "      <td>12</td>\n",
       "      <td>2849787</td>\n",
       "      <td>2.018050e+31</td>\n",
       "      <td>卡号1</td>\n",
       "      <td>0.04</td>\n",
       "      <td>0.96</td>\n",
       "      <td>0</td>\n",
       "      <td>1.00</td>\n",
       "      <td>1.00</td>\n",
       "      <td>0.114</td>\n",
       "      <td>...</td>\n",
       "      <td>1600.0</td>\n",
       "      <td>1250.0</td>\n",
       "      <td>4200.0</td>\n",
       "      <td>87.0</td>\n",
       "      <td>1.0</td>\n",
       "      <td>1.0</td>\n",
       "      <td>4200.0</td>\n",
       "      <td>4200.0</td>\n",
       "      <td>2.0</td>\n",
       "      <td>6.0</td>\n",
       "    </tr>\n",
       "    <tr>\n",
       "      <th>3</th>\n",
       "      <td>13</td>\n",
       "      <td>1809708</td>\n",
       "      <td>2.018050e+31</td>\n",
       "      <td>卡号1</td>\n",
       "      <td>0.00</td>\n",
       "      <td>0.96</td>\n",
       "      <td>2000</td>\n",
       "      <td>0.13</td>\n",
       "      <td>0.57</td>\n",
       "      <td>0.777</td>\n",
       "      <td>...</td>\n",
       "      <td>3200.0</td>\n",
       "      <td>1541.0</td>\n",
       "      <td>16300.0</td>\n",
       "      <td>80.0</td>\n",
       "      <td>5.0</td>\n",
       "      <td>5.0</td>\n",
       "      <td>30000.0</td>\n",
       "      <td>12180.0</td>\n",
       "      <td>2.0</td>\n",
       "      <td>4.0</td>\n",
       "    </tr>\n",
       "    <tr>\n",
       "      <th>4</th>\n",
       "      <td>14</td>\n",
       "      <td>2499829</td>\n",
       "      <td>2.018050e+31</td>\n",
       "      <td>卡号1</td>\n",
       "      <td>0.01</td>\n",
       "      <td>0.99</td>\n",
       "      <td>0</td>\n",
       "      <td>0.46</td>\n",
       "      <td>1.00</td>\n",
       "      <td>0.175</td>\n",
       "      <td>...</td>\n",
       "      <td>2300.0</td>\n",
       "      <td>1630.0</td>\n",
       "      <td>8300.0</td>\n",
       "      <td>79.0</td>\n",
       "      <td>2.0</td>\n",
       "      <td>2.0</td>\n",
       "      <td>8400.0</td>\n",
       "      <td>8250.0</td>\n",
       "      <td>22.0</td>\n",
       "      <td>120.0</td>\n",
       "    </tr>\n",
       "  </tbody>\n",
       "</table>\n",
       "<p>5 rows × 90 columns</p>\n",
       "</div>"
      ],
      "text/plain": [
       "   Unnamed: 0   custid      trade_no bank_card_no  low_volume_percent  \\\n",
       "0           5  2791858  2.018050e+31          卡号1                0.01   \n",
       "1          10   534047  2.018050e+31          卡号1                0.02   \n",
       "2          12  2849787  2.018050e+31          卡号1                0.04   \n",
       "3          13  1809708  2.018050e+31          卡号1                0.00   \n",
       "4          14  2499829  2.018050e+31          卡号1                0.01   \n",
       "\n",
       "   middle_volume_percent  take_amount_in_later_12_month_highest  \\\n",
       "0                   0.99                                      0   \n",
       "1                   0.94                                   2000   \n",
       "2                   0.96                                      0   \n",
       "3                   0.96                                   2000   \n",
       "4                   0.99                                      0   \n",
       "\n",
       "   trans_amount_increase_rate_lately  trans_activity_month  \\\n",
       "0                               0.90                  0.55   \n",
       "1                               1.28                  1.00   \n",
       "2                               1.00                  1.00   \n",
       "3                               0.13                  0.57   \n",
       "4                               0.46                  1.00   \n",
       "\n",
       "   trans_activity_day        ...         loans_max_limit  loans_avg_limit  \\\n",
       "0               0.313        ...                  2900.0           1688.0   \n",
       "1               0.458        ...                  3500.0           1758.0   \n",
       "2               0.114        ...                  1600.0           1250.0   \n",
       "3               0.777        ...                  3200.0           1541.0   \n",
       "4               0.175        ...                  2300.0           1630.0   \n",
       "\n",
       "   consfin_credit_limit  consfin_credibility  consfin_org_count_current  \\\n",
       "0                1200.0                 75.0                        1.0   \n",
       "1               15100.0                 80.0                        5.0   \n",
       "2                4200.0                 87.0                        1.0   \n",
       "3               16300.0                 80.0                        5.0   \n",
       "4                8300.0                 79.0                        2.0   \n",
       "\n",
       "   consfin_product_count  consfin_max_limit  consfin_avg_limit  \\\n",
       "0                    2.0             1200.0             1200.0   \n",
       "1                    6.0            22800.0             9360.0   \n",
       "2                    1.0             4200.0             4200.0   \n",
       "3                    5.0            30000.0            12180.0   \n",
       "4                    2.0             8400.0             8250.0   \n",
       "\n",
       "   latest_query_day  loans_latest_day  \n",
       "0              12.0              18.0  \n",
       "1               4.0               2.0  \n",
       "2               2.0               6.0  \n",
       "3               2.0               4.0  \n",
       "4              22.0             120.0  \n",
       "\n",
       "[5 rows x 90 columns]"
      ]
     },
     "execution_count": 3,
     "metadata": {},
     "output_type": "execute_result"
    }
   ],
   "source": [
    "df.head()"
   ]
  },
  {
   "cell_type": "code",
   "execution_count": 4,
   "metadata": {},
   "outputs": [
    {
     "data": {
      "text/plain": [
       "(4715, 90)"
      ]
     },
     "execution_count": 4,
     "metadata": {},
     "output_type": "execute_result"
    }
   ],
   "source": [
    "df.shape  #4715行90列"
   ]
  },
  {
   "cell_type": "code",
   "execution_count": 5,
   "metadata": {},
   "outputs": [
    {
     "data": {
      "text/plain": [
       "Index(['Unnamed: 0', 'custid', 'trade_no', 'bank_card_no',\n",
       "       'low_volume_percent', 'middle_volume_percent',\n",
       "       'take_amount_in_later_12_month_highest',\n",
       "       'trans_amount_increase_rate_lately', 'trans_activity_month',\n",
       "       'trans_activity_day', 'transd_mcc', 'trans_days_interval_filter',\n",
       "       'trans_days_interval', 'regional_mobility', 'student_feature',\n",
       "       'repayment_capability', 'is_high_user', 'number_of_trans_from_2011',\n",
       "       'first_transaction_time', 'historical_trans_amount',\n",
       "       'historical_trans_day', 'rank_trad_1_month', 'trans_amount_3_month',\n",
       "       'avg_consume_less_12_valid_month', 'abs',\n",
       "       'top_trans_count_last_1_month', 'avg_price_last_12_month',\n",
       "       'avg_price_top_last_12_valid_month', 'reg_preference_for_trad',\n",
       "       'trans_top_time_last_1_month', 'trans_top_time_last_6_month',\n",
       "       'consume_top_time_last_1_month', 'consume_top_time_last_6_month',\n",
       "       'cross_consume_count_last_1_month',\n",
       "       'trans_fail_top_count_enum_last_1_month',\n",
       "       'trans_fail_top_count_enum_last_6_month',\n",
       "       'trans_fail_top_count_enum_last_12_month',\n",
       "       'consume_mini_time_last_1_month',\n",
       "       'max_cumulative_consume_later_1_month',\n",
       "       'max_consume_count_later_6_month',\n",
       "       'railway_consume_count_last_12_month',\n",
       "       'pawns_auctions_trusts_consume_last_1_month',\n",
       "       'pawns_auctions_trusts_consume_last_6_month',\n",
       "       'jewelry_consume_count_last_6_month', 'status', 'source',\n",
       "       'first_transaction_day', 'trans_day_last_12_month', 'id_name',\n",
       "       'apply_score', 'apply_credibility', 'query_org_count',\n",
       "       'query_finance_count', 'query_cash_count', 'query_sum_count',\n",
       "       'latest_query_time', 'latest_one_month_apply',\n",
       "       'latest_three_month_apply', 'latest_six_month_apply', 'loans_score',\n",
       "       'loans_credibility_behavior', 'loans_count', 'loans_settle_count',\n",
       "       'loans_overdue_count', 'loans_org_count_behavior',\n",
       "       'consfin_org_count_behavior', 'loans_cash_count',\n",
       "       'latest_one_month_loan', 'latest_three_month_loan',\n",
       "       'latest_six_month_loan', 'history_suc_fee', 'history_fail_fee',\n",
       "       'latest_one_month_suc', 'latest_one_month_fail', 'loans_long_time',\n",
       "       'loans_latest_time', 'loans_credit_limit', 'loans_credibility_limit',\n",
       "       'loans_org_count_current', 'loans_product_count', 'loans_max_limit',\n",
       "       'loans_avg_limit', 'consfin_credit_limit', 'consfin_credibility',\n",
       "       'consfin_org_count_current', 'consfin_product_count',\n",
       "       'consfin_max_limit', 'consfin_avg_limit', 'latest_query_day',\n",
       "       'loans_latest_day'],\n",
       "      dtype='object')"
      ]
     },
     "execution_count": 5,
     "metadata": {},
     "output_type": "execute_result"
    }
   ],
   "source": [
    "df.columns  #查看数据特征"
   ]
  },
  {
   "cell_type": "markdown",
   "metadata": {},
   "source": [
    "## 删除无关特征"
   ]
  },
  {
   "cell_type": "code",
   "execution_count": 6,
   "metadata": {},
   "outputs": [],
   "source": [
    "#删除与标签没有关系的特征\n",
    "['Unnamed: 0', 'custid', 'trade_no', 'bank_card_no','id_name','latest_query_time','source','loans_latest_time','first_transaction_time']\n",
    "delete = ['Unnamed: 0', 'custid', 'trade_no', 'bank_card_no','id_name','latest_query_time','source','loans_latest_time','first_transaction_time']\n",
    "df = df.drop(delete,axis=1)"
   ]
  },
  {
   "cell_type": "code",
   "execution_count": 7,
   "metadata": {},
   "outputs": [
    {
     "data": {
      "text/plain": [
       "(4715, 81)"
      ]
     },
     "execution_count": 7,
     "metadata": {},
     "output_type": "execute_result"
    }
   ],
   "source": [
    "df.shape  #删除无关特征后，特征由90个变为81个"
   ]
  },
  {
   "cell_type": "code",
   "execution_count": 8,
   "metadata": {},
   "outputs": [],
   "source": [
    "nan_rate = pd.DataFrame((df.shape[0]-df.count())/df.shape[0])  #查看缺失值比例"
   ]
  },
  {
   "cell_type": "code",
   "execution_count": 9,
   "metadata": {},
   "outputs": [
    {
     "data": {
      "text/html": [
       "<div>\n",
       "<style scoped>\n",
       "    .dataframe tbody tr th:only-of-type {\n",
       "        vertical-align: middle;\n",
       "    }\n",
       "\n",
       "    .dataframe tbody tr th {\n",
       "        vertical-align: top;\n",
       "    }\n",
       "\n",
       "    .dataframe thead th {\n",
       "        text-align: right;\n",
       "    }\n",
       "</style>\n",
       "<table border=\"1\" class=\"dataframe\">\n",
       "  <thead>\n",
       "    <tr style=\"text-align: right;\">\n",
       "      <th></th>\n",
       "      <th>0</th>\n",
       "    </tr>\n",
       "  </thead>\n",
       "  <tbody>\n",
       "    <tr>\n",
       "      <th>student_feature</th>\n",
       "      <td>0.630753</td>\n",
       "    </tr>\n",
       "  </tbody>\n",
       "</table>\n",
       "</div>"
      ],
      "text/plain": [
       "                        0\n",
       "student_feature  0.630753"
      ]
     },
     "execution_count": 9,
     "metadata": {},
     "output_type": "execute_result"
    }
   ],
   "source": [
    "nan_rate[nan_rate.iloc[:,0]>0.5]  #student_feature缺失值达到63%，将其删除"
   ]
  },
  {
   "cell_type": "code",
   "execution_count": 10,
   "metadata": {},
   "outputs": [],
   "source": [
    "df = df.drop(['student_feature'],axis=1)"
   ]
  },
  {
   "cell_type": "code",
   "execution_count": 11,
   "metadata": {},
   "outputs": [
    {
     "data": {
      "text/plain": [
       "(4715, 80)"
      ]
     },
     "execution_count": 11,
     "metadata": {},
     "output_type": "execute_result"
    }
   ],
   "source": [
    "df.shape"
   ]
  },
  {
   "cell_type": "code",
   "execution_count": 12,
   "metadata": {},
   "outputs": [
    {
     "name": "stdout",
     "output_type": "stream",
     "text": [
      "<class 'pandas.core.frame.DataFrame'>\n",
      "RangeIndex: 4715 entries, 0 to 4714\n",
      "Data columns (total 80 columns):\n",
      "low_volume_percent                            4713 non-null float64\n",
      "middle_volume_percent                         4713 non-null float64\n",
      "take_amount_in_later_12_month_highest         4715 non-null int64\n",
      "trans_amount_increase_rate_lately             4712 non-null float64\n",
      "trans_activity_month                          4713 non-null float64\n",
      "trans_activity_day                            4713 non-null float64\n",
      "transd_mcc                                    4713 non-null float64\n",
      "trans_days_interval_filter                    4707 non-null float64\n",
      "trans_days_interval                           4713 non-null float64\n",
      "regional_mobility                             4713 non-null float64\n",
      "repayment_capability                          4715 non-null int64\n",
      "is_high_user                                  4715 non-null int64\n",
      "number_of_trans_from_2011                     4713 non-null float64\n",
      "historical_trans_amount                       4715 non-null int64\n",
      "historical_trans_day                          4713 non-null float64\n",
      "rank_trad_1_month                             4713 non-null float64\n",
      "trans_amount_3_month                          4715 non-null int64\n",
      "avg_consume_less_12_valid_month               4713 non-null float64\n",
      "abs                                           4715 non-null int64\n",
      "top_trans_count_last_1_month                  4713 non-null float64\n",
      "avg_price_last_12_month                       4715 non-null int64\n",
      "avg_price_top_last_12_valid_month             4612 non-null float64\n",
      "reg_preference_for_trad                       4713 non-null object\n",
      "trans_top_time_last_1_month                   4707 non-null float64\n",
      "trans_top_time_last_6_month                   4707 non-null float64\n",
      "consume_top_time_last_1_month                 4707 non-null float64\n",
      "consume_top_time_last_6_month                 4707 non-null float64\n",
      "cross_consume_count_last_1_month              4294 non-null float64\n",
      "trans_fail_top_count_enum_last_1_month        4699 non-null float64\n",
      "trans_fail_top_count_enum_last_6_month        4699 non-null float64\n",
      "trans_fail_top_count_enum_last_12_month       4699 non-null float64\n",
      "consume_mini_time_last_1_month                4689 non-null float64\n",
      "max_cumulative_consume_later_1_month          4715 non-null int64\n",
      "max_consume_count_later_6_month               4707 non-null float64\n",
      "railway_consume_count_last_12_month           4703 non-null float64\n",
      "pawns_auctions_trusts_consume_last_1_month    4715 non-null int64\n",
      "pawns_auctions_trusts_consume_last_6_month    4715 non-null int64\n",
      "jewelry_consume_count_last_6_month            4703 non-null float64\n",
      "status                                        4715 non-null int64\n",
      "first_transaction_day                         4713 non-null float64\n",
      "trans_day_last_12_month                       4713 non-null float64\n",
      "apply_score                                   4412 non-null float64\n",
      "apply_credibility                             4412 non-null float64\n",
      "query_org_count                               4412 non-null float64\n",
      "query_finance_count                           4412 non-null float64\n",
      "query_cash_count                              4412 non-null float64\n",
      "query_sum_count                               4412 non-null float64\n",
      "latest_one_month_apply                        4412 non-null float64\n",
      "latest_three_month_apply                      4411 non-null float64\n",
      "latest_six_month_apply                        4411 non-null float64\n",
      "loans_score                                   4418 non-null float64\n",
      "loans_credibility_behavior                    4418 non-null float64\n",
      "loans_count                                   4418 non-null float64\n",
      "loans_settle_count                            4418 non-null float64\n",
      "loans_overdue_count                           4418 non-null float64\n",
      "loans_org_count_behavior                      4418 non-null float64\n",
      "consfin_org_count_behavior                    4418 non-null float64\n",
      "loans_cash_count                              4418 non-null float64\n",
      "latest_one_month_loan                         4418 non-null float64\n",
      "latest_three_month_loan                       4418 non-null float64\n",
      "latest_six_month_loan                         4418 non-null float64\n",
      "history_suc_fee                               4418 non-null float64\n",
      "history_fail_fee                              4418 non-null float64\n",
      "latest_one_month_suc                          4418 non-null float64\n",
      "latest_one_month_fail                         4418 non-null float64\n",
      "loans_long_time                               4418 non-null float64\n",
      "loans_credit_limit                            4418 non-null float64\n",
      "loans_credibility_limit                       4418 non-null float64\n",
      "loans_org_count_current                       4418 non-null float64\n",
      "loans_product_count                           4418 non-null float64\n",
      "loans_max_limit                               4418 non-null float64\n",
      "loans_avg_limit                               4418 non-null float64\n",
      "consfin_credit_limit                          4418 non-null float64\n",
      "consfin_credibility                           4418 non-null float64\n",
      "consfin_org_count_current                     4418 non-null float64\n",
      "consfin_product_count                         4418 non-null float64\n",
      "consfin_max_limit                             4418 non-null float64\n",
      "consfin_avg_limit                             4418 non-null float64\n",
      "latest_query_day                              4411 non-null float64\n",
      "loans_latest_day                              4418 non-null float64\n",
      "dtypes: float64(68), int64(11), object(1)\n",
      "memory usage: 2.9+ MB\n"
     ]
    }
   ],
   "source": [
    "df.info()"
   ]
  },
  {
   "cell_type": "markdown",
   "metadata": {},
   "source": [
    "## 使用众数进行缺失值填充"
   ]
  },
  {
   "cell_type": "code",
   "execution_count": 13,
   "metadata": {},
   "outputs": [],
   "source": [
    "from sklearn.impute import SimpleImputer\n",
    "for i in range(df.shape[1]):\n",
    "    feature = df.iloc[:,i].values.reshape(-1,1)  #sklearn中特征矩阵必须是二维\n",
    "    imp_mode = SimpleImputer(strategy='most_frequent')\n",
    "    df.iloc[:,i] = imp_mode.fit_transform(feature)"
   ]
  },
  {
   "cell_type": "code",
   "execution_count": 14,
   "metadata": {},
   "outputs": [
    {
     "name": "stdout",
     "output_type": "stream",
     "text": [
      "<class 'pandas.core.frame.DataFrame'>\n",
      "RangeIndex: 4715 entries, 0 to 4714\n",
      "Data columns (total 80 columns):\n",
      "low_volume_percent                            4715 non-null float64\n",
      "middle_volume_percent                         4715 non-null float64\n",
      "take_amount_in_later_12_month_highest         4715 non-null int64\n",
      "trans_amount_increase_rate_lately             4715 non-null float64\n",
      "trans_activity_month                          4715 non-null float64\n",
      "trans_activity_day                            4715 non-null float64\n",
      "transd_mcc                                    4715 non-null float64\n",
      "trans_days_interval_filter                    4715 non-null float64\n",
      "trans_days_interval                           4715 non-null float64\n",
      "regional_mobility                             4715 non-null float64\n",
      "repayment_capability                          4715 non-null int64\n",
      "is_high_user                                  4715 non-null int64\n",
      "number_of_trans_from_2011                     4715 non-null float64\n",
      "historical_trans_amount                       4715 non-null int64\n",
      "historical_trans_day                          4715 non-null float64\n",
      "rank_trad_1_month                             4715 non-null float64\n",
      "trans_amount_3_month                          4715 non-null int64\n",
      "avg_consume_less_12_valid_month               4715 non-null float64\n",
      "abs                                           4715 non-null int64\n",
      "top_trans_count_last_1_month                  4715 non-null float64\n",
      "avg_price_last_12_month                       4715 non-null int64\n",
      "avg_price_top_last_12_valid_month             4715 non-null float64\n",
      "reg_preference_for_trad                       4715 non-null object\n",
      "trans_top_time_last_1_month                   4715 non-null float64\n",
      "trans_top_time_last_6_month                   4715 non-null float64\n",
      "consume_top_time_last_1_month                 4715 non-null float64\n",
      "consume_top_time_last_6_month                 4715 non-null float64\n",
      "cross_consume_count_last_1_month              4715 non-null float64\n",
      "trans_fail_top_count_enum_last_1_month        4715 non-null float64\n",
      "trans_fail_top_count_enum_last_6_month        4715 non-null float64\n",
      "trans_fail_top_count_enum_last_12_month       4715 non-null float64\n",
      "consume_mini_time_last_1_month                4715 non-null float64\n",
      "max_cumulative_consume_later_1_month          4715 non-null int64\n",
      "max_consume_count_later_6_month               4715 non-null float64\n",
      "railway_consume_count_last_12_month           4715 non-null float64\n",
      "pawns_auctions_trusts_consume_last_1_month    4715 non-null int64\n",
      "pawns_auctions_trusts_consume_last_6_month    4715 non-null int64\n",
      "jewelry_consume_count_last_6_month            4715 non-null float64\n",
      "status                                        4715 non-null int64\n",
      "first_transaction_day                         4715 non-null float64\n",
      "trans_day_last_12_month                       4715 non-null float64\n",
      "apply_score                                   4715 non-null float64\n",
      "apply_credibility                             4715 non-null float64\n",
      "query_org_count                               4715 non-null float64\n",
      "query_finance_count                           4715 non-null float64\n",
      "query_cash_count                              4715 non-null float64\n",
      "query_sum_count                               4715 non-null float64\n",
      "latest_one_month_apply                        4715 non-null float64\n",
      "latest_three_month_apply                      4715 non-null float64\n",
      "latest_six_month_apply                        4715 non-null float64\n",
      "loans_score                                   4715 non-null float64\n",
      "loans_credibility_behavior                    4715 non-null float64\n",
      "loans_count                                   4715 non-null float64\n",
      "loans_settle_count                            4715 non-null float64\n",
      "loans_overdue_count                           4715 non-null float64\n",
      "loans_org_count_behavior                      4715 non-null float64\n",
      "consfin_org_count_behavior                    4715 non-null float64\n",
      "loans_cash_count                              4715 non-null float64\n",
      "latest_one_month_loan                         4715 non-null float64\n",
      "latest_three_month_loan                       4715 non-null float64\n",
      "latest_six_month_loan                         4715 non-null float64\n",
      "history_suc_fee                               4715 non-null float64\n",
      "history_fail_fee                              4715 non-null float64\n",
      "latest_one_month_suc                          4715 non-null float64\n",
      "latest_one_month_fail                         4715 non-null float64\n",
      "loans_long_time                               4715 non-null float64\n",
      "loans_credit_limit                            4715 non-null float64\n",
      "loans_credibility_limit                       4715 non-null float64\n",
      "loans_org_count_current                       4715 non-null float64\n",
      "loans_product_count                           4715 non-null float64\n",
      "loans_max_limit                               4715 non-null float64\n",
      "loans_avg_limit                               4715 non-null float64\n",
      "consfin_credit_limit                          4715 non-null float64\n",
      "consfin_credibility                           4715 non-null float64\n",
      "consfin_org_count_current                     4715 non-null float64\n",
      "consfin_product_count                         4715 non-null float64\n",
      "consfin_max_limit                             4715 non-null float64\n",
      "consfin_avg_limit                             4715 non-null float64\n",
      "latest_query_day                              4715 non-null float64\n",
      "loans_latest_day                              4715 non-null float64\n",
      "dtypes: float64(68), int64(11), object(1)\n",
      "memory usage: 2.9+ MB\n"
     ]
    }
   ],
   "source": [
    "df.info()"
   ]
  },
  {
   "cell_type": "markdown",
   "metadata": {},
   "source": [
    "## 处理分类型特征"
   ]
  },
  {
   "cell_type": "code",
   "execution_count": 15,
   "metadata": {},
   "outputs": [],
   "source": [
    "from sklearn.preprocessing import OrdinalEncoder\n",
    "df['reg_preference_for_trad'] = OrdinalEncoder().fit_transform(df['reg_preference_for_trad'].values.reshape(-1,1))"
   ]
  },
  {
   "cell_type": "code",
   "execution_count": 16,
   "metadata": {},
   "outputs": [
    {
     "data": {
      "text/plain": [
       "(4715, 80)"
      ]
     },
     "execution_count": 16,
     "metadata": {},
     "output_type": "execute_result"
    }
   ],
   "source": [
    "df.shape"
   ]
  },
  {
   "cell_type": "code",
   "execution_count": 17,
   "metadata": {},
   "outputs": [
    {
     "name": "stdout",
     "output_type": "stream",
     "text": [
      "38\n"
     ]
    }
   ],
   "source": [
    "#查找标签值对应的索引\n",
    "for i in range(df.shape[1]):\n",
    "    if df.columns[i] == 'status':\n",
    "        print(i)"
   ]
  },
  {
   "cell_type": "code",
   "execution_count": 18,
   "metadata": {},
   "outputs": [
    {
     "data": {
      "text/plain": [
       "'status'"
      ]
     },
     "execution_count": 18,
     "metadata": {},
     "output_type": "execute_result"
    }
   ],
   "source": [
    "df.columns[38]"
   ]
  },
  {
   "cell_type": "code",
   "execution_count": 19,
   "metadata": {},
   "outputs": [],
   "source": [
    "y = df.iloc[:,38]\n",
    "X = df.drop(['status'],axis=1)"
   ]
  },
  {
   "cell_type": "code",
   "execution_count": 20,
   "metadata": {},
   "outputs": [
    {
     "data": {
      "text/plain": [
       "(4715, 79)"
      ]
     },
     "execution_count": 20,
     "metadata": {},
     "output_type": "execute_result"
    }
   ],
   "source": [
    "X.shape"
   ]
  },
  {
   "cell_type": "markdown",
   "metadata": {},
   "source": [
    "## 特征工程——方差过滤"
   ]
  },
  {
   "cell_type": "code",
   "execution_count": 21,
   "metadata": {},
   "outputs": [
    {
     "data": {
      "text/plain": [
       "(4715, 79)"
      ]
     },
     "execution_count": 21,
     "metadata": {},
     "output_type": "execute_result"
    }
   ],
   "source": [
    "from sklearn.feature_selection import VarianceThreshold\n",
    "X_fsvar = VarianceThreshold().fit_transform(X) #实例化，不填写参数默认方差为0\n",
    "X_fsvar.shape #方差过滤阈值为0时没有删除任何特征"
   ]
  },
  {
   "cell_type": "markdown",
   "metadata": {},
   "source": [
    "## 特征工程——互信息法"
   ]
  },
  {
   "cell_type": "code",
   "execution_count": 22,
   "metadata": {},
   "outputs": [],
   "source": [
    "#互信息法,它返回每个特征与目标之间的互信息量的估计，这个估计在[0,1]之间取值，0表示独立，1表示两个\n",
    "#变量完全相关\n",
    "from sklearn.feature_selection import mutual_info_classif as MIC\n",
    "result = MIC(X,y)"
   ]
  },
  {
   "cell_type": "code",
   "execution_count": 23,
   "metadata": {},
   "outputs": [
    {
     "data": {
      "text/plain": [
       "(79,)"
      ]
     },
     "execution_count": 23,
     "metadata": {},
     "output_type": "execute_result"
    }
   ],
   "source": [
    "result.shape"
   ]
  },
  {
   "cell_type": "code",
   "execution_count": 42,
   "metadata": {},
   "outputs": [
    {
     "data": {
      "text/plain": [
       "26"
      ]
     },
     "execution_count": 42,
     "metadata": {},
     "output_type": "execute_result"
    }
   ],
   "source": [
    "(result == 0).sum()"
   ]
  },
  {
   "cell_type": "code",
   "execution_count": 43,
   "metadata": {},
   "outputs": [],
   "source": [
    "delete = []\n",
    "for i in range(79):\n",
    "    if result[i] == 0:\n",
    "        delete.append(i)"
   ]
  },
  {
   "cell_type": "code",
   "execution_count": 49,
   "metadata": {},
   "outputs": [],
   "source": [
    "X_ = X.drop(X.iloc[:,delete],axis=1)"
   ]
  },
  {
   "cell_type": "code",
   "execution_count": 50,
   "metadata": {},
   "outputs": [
    {
     "data": {
      "text/plain": [
       "(4715, 53)"
      ]
     },
     "execution_count": 50,
     "metadata": {},
     "output_type": "execute_result"
    }
   ],
   "source": [
    "X_.shape"
   ]
  },
  {
   "cell_type": "code",
   "execution_count": 71,
   "metadata": {},
   "outputs": [],
   "source": [
    "## 样本不平衡处理"
   ]
  },
  {
   "cell_type": "code",
   "execution_count": 53,
   "metadata": {},
   "outputs": [
    {
     "data": {
      "text/plain": [
       "0.3349377123442809"
      ]
     },
     "execution_count": 53,
     "metadata": {},
     "output_type": "execute_result"
    }
   ],
   "source": [
    "y[y==1].count()/y[y==0].count()"
   ]
  },
  {
   "cell_type": "code",
   "execution_count": 55,
   "metadata": {},
   "outputs": [],
   "source": [
    "import imblearn\n",
    "from imblearn.over_sampling import SMOTE\n",
    "sm = SMOTE(random_state=420)\n",
    "X,y = sm.fit_sample(X_,y)"
   ]
  },
  {
   "cell_type": "code",
   "execution_count": 56,
   "metadata": {},
   "outputs": [],
   "source": [
    "n_sample_ = X.shape[0]"
   ]
  },
  {
   "cell_type": "code",
   "execution_count": 58,
   "metadata": {},
   "outputs": [
    {
     "data": {
      "text/plain": [
       "1    3532\n",
       "0    3532\n",
       "dtype: int64"
      ]
     },
     "execution_count": 58,
     "metadata": {},
     "output_type": "execute_result"
    }
   ],
   "source": [
    "pd.Series(y).value_counts()"
   ]
  },
  {
   "cell_type": "code",
   "execution_count": 60,
   "metadata": {},
   "outputs": [
    {
     "name": "stdout",
     "output_type": "stream",
     "text": [
      "样本个数：7064; 1占50.00%; 0占50.00%\n"
     ]
    }
   ],
   "source": [
    "n_1_sample = pd.Series(y).value_counts()[1]\n",
    "n_0_sample = pd.Series(y).value_counts()[0]\n",
    "print('样本个数：{}; 1占{:.2%}; 0占{:.2%}'.format(n_sample_,n_1_sample/n_sample_,n_0_sample/n_sample_))"
   ]
  },
  {
   "cell_type": "markdown",
   "metadata": {},
   "source": [
    "## 将数据分为训练集和测试集"
   ]
  },
  {
   "cell_type": "markdown",
   "metadata": {},
   "source": [
    "### 使用交叉验证"
   ]
  },
  {
   "cell_type": "code",
   "execution_count": 62,
   "metadata": {},
   "outputs": [],
   "source": [
    "from sklearn.model_selection import train_test_split\n",
    "Xtrain,Xtest,Ytrain,Ytest = train_test_split(X,y,test_size=0.3,random_state=420)"
   ]
  },
  {
   "cell_type": "code",
   "execution_count": 67,
   "metadata": {},
   "outputs": [
    {
     "name": "stdout",
     "output_type": "stream",
     "text": [
      "准确率:0.8186,精确率:0.8953,召回率:0.7837,f1-score:0.8143,auc:0.9002\n"
     ]
    }
   ],
   "source": [
    "from sklearn.ensemble import RandomForestClassifier\n",
    "from sklearn.model_selection import cross_val_score\n",
    "rfc = RandomForestClassifier(n_estimators=10)\n",
    "acc1 = cross_val_score(rfc,Xtrain,Ytrain,cv=5,scoring='accuracy').mean()\n",
    "precision1 = cross_val_score(rfc,Xtrain,Ytrain,cv=5,scoring='average_precision').mean()\n",
    "recall1 = cross_val_score(rfc,Xtrain,Ytrain,cv=5,scoring='recall').mean()\n",
    "f11 = cross_val_score(rfc,Xtrain,Ytrain,cv=5,scoring='f1').mean()\n",
    "auc1 = cross_val_score(rfc,Xtrain,Ytrain,cv=5,scoring='roc_auc').mean()\n",
    "print('准确率:{:.4f},精确率:{:.4f},召回率:{:.4f},f1-score:{:.4f},auc:{:.4f}'.format(acc1,precision1,recall1,f11,auc1))"
   ]
  },
  {
   "cell_type": "code",
   "execution_count": null,
   "metadata": {},
   "outputs": [],
   "source": [
    "#可能产生过拟合"
   ]
  },
  {
   "cell_type": "markdown",
   "metadata": {},
   "source": [
    "### 未使用交叉验证"
   ]
  },
  {
   "cell_type": "code",
   "execution_count": 70,
   "metadata": {},
   "outputs": [
    {
     "name": "stdout",
     "output_type": "stream",
     "text": [
      "准确率:0.8420,精确率:0.8683,召回率:0.8090,f1-score:0.8376,auc:0.8422\n"
     ]
    }
   ],
   "source": [
    "from sklearn.ensemble import RandomForestClassifier\n",
    "from sklearn import metrics\n",
    "rfc = RandomForestClassifier(n_estimators=10)\n",
    "rfc.fit(Xtrain,Ytrain)\n",
    "acc = rfc.score(Xtest,Ytest)\n",
    "\n",
    "Ytest_pred = rfc.predict(Xtest)\n",
    "acc = metrics.accuracy_score(Ytest,Ytest_pred)\n",
    "precision = metrics.precision_score(Ytest,Ytest_pred)\n",
    "recall = metrics.recall_score(Ytest,Ytest_pred)\n",
    "f1 = metrics.f1_score(Ytest,Ytest_pred)\n",
    "auc= metrics.roc_auc_score(Ytest,Ytest_pred)\n",
    "print('准确率:{:.4f},精确率:{:.4f},召回率:{:.4f},f1-score:{:.4f},auc:{:.4f}'.format(acc,precision,recall,f1,auc))"
   ]
  },
  {
   "cell_type": "code",
   "execution_count": null,
   "metadata": {},
   "outputs": [],
   "source": []
  }
 ],
 "metadata": {
  "kernelspec": {
   "display_name": "Python 3",
   "language": "python",
   "name": "python3"
  },
  "language_info": {
   "codemirror_mode": {
    "name": "ipython",
    "version": 3
   },
   "file_extension": ".py",
   "mimetype": "text/x-python",
   "name": "python",
   "nbconvert_exporter": "python",
   "pygments_lexer": "ipython3",
   "version": "3.5.5"
  },
  "toc": {
   "base_numbering": 1,
   "nav_menu": {},
   "number_sections": true,
   "sideBar": true,
   "skip_h1_title": false,
   "title_cell": "Table of Contents",
   "title_sidebar": "Contents",
   "toc_cell": false,
   "toc_position": {},
   "toc_section_display": true,
   "toc_window_display": false
  }
 },
 "nbformat": 4,
 "nbformat_minor": 2
}
