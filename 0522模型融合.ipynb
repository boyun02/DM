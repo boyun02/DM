{
 "cells": [
  {
   "cell_type": "code",
   "execution_count": 26,
   "metadata": {},
   "outputs": [],
   "source": [
    "import pandas as pd\n",
    "import numpy as np"
   ]
  },
  {
   "cell_type": "code",
   "execution_count": 27,
   "metadata": {},
   "outputs": [],
   "source": [
    "#导入经过数据预处理和特征工程的数据\n",
    "df = pd.read_csv(r\"C:\\Users\\Administrator\\Desktop\\数据挖掘\\data_.csv\",index_col=0)"
   ]
  },
  {
   "cell_type": "code",
   "execution_count": 28,
   "metadata": {},
   "outputs": [
    {
     "data": {
      "text/html": [
       "<div>\n",
       "<style scoped>\n",
       "    .dataframe tbody tr th:only-of-type {\n",
       "        vertical-align: middle;\n",
       "    }\n",
       "\n",
       "    .dataframe tbody tr th {\n",
       "        vertical-align: top;\n",
       "    }\n",
       "\n",
       "    .dataframe thead th {\n",
       "        text-align: right;\n",
       "    }\n",
       "</style>\n",
       "<table border=\"1\" class=\"dataframe\">\n",
       "  <thead>\n",
       "    <tr style=\"text-align: right;\">\n",
       "      <th></th>\n",
       "      <th>0_x</th>\n",
       "      <th>1</th>\n",
       "      <th>2</th>\n",
       "      <th>3</th>\n",
       "      <th>4</th>\n",
       "      <th>5</th>\n",
       "      <th>6</th>\n",
       "      <th>7</th>\n",
       "      <th>8</th>\n",
       "      <th>9</th>\n",
       "      <th>...</th>\n",
       "      <th>11</th>\n",
       "      <th>12</th>\n",
       "      <th>13</th>\n",
       "      <th>14</th>\n",
       "      <th>15</th>\n",
       "      <th>16</th>\n",
       "      <th>17</th>\n",
       "      <th>18</th>\n",
       "      <th>19</th>\n",
       "      <th>0_y</th>\n",
       "    </tr>\n",
       "  </thead>\n",
       "  <tbody>\n",
       "    <tr>\n",
       "      <th>0</th>\n",
       "      <td>-0.390704</td>\n",
       "      <td>-0.201280</td>\n",
       "      <td>-0.799040</td>\n",
       "      <td>0.772736</td>\n",
       "      <td>-0.096287</td>\n",
       "      <td>-1.119544</td>\n",
       "      <td>-0.377614</td>\n",
       "      <td>-1.019579</td>\n",
       "      <td>-0.679865</td>\n",
       "      <td>-0.287527</td>\n",
       "      <td>...</td>\n",
       "      <td>-0.545560</td>\n",
       "      <td>-0.176020</td>\n",
       "      <td>-0.506717</td>\n",
       "      <td>-0.458513</td>\n",
       "      <td>0.122106</td>\n",
       "      <td>-0.144873</td>\n",
       "      <td>0.338192</td>\n",
       "      <td>-0.259763</td>\n",
       "      <td>-0.385553</td>\n",
       "      <td>1</td>\n",
       "    </tr>\n",
       "    <tr>\n",
       "      <th>1</th>\n",
       "      <td>-0.165808</td>\n",
       "      <td>-0.815437</td>\n",
       "      <td>-0.572465</td>\n",
       "      <td>0.030293</td>\n",
       "      <td>0.048196</td>\n",
       "      <td>0.549394</td>\n",
       "      <td>-0.605482</td>\n",
       "      <td>1.008921</td>\n",
       "      <td>-0.440776</td>\n",
       "      <td>0.144876</td>\n",
       "      <td>...</td>\n",
       "      <td>1.169343</td>\n",
       "      <td>0.258752</td>\n",
       "      <td>0.028600</td>\n",
       "      <td>-0.458513</td>\n",
       "      <td>0.485705</td>\n",
       "      <td>0.741561</td>\n",
       "      <td>-0.198579</td>\n",
       "      <td>-0.314891</td>\n",
       "      <td>-0.580758</td>\n",
       "      <td>0</td>\n",
       "    </tr>\n",
       "    <tr>\n",
       "      <th>2</th>\n",
       "      <td>-0.165808</td>\n",
       "      <td>-0.815437</td>\n",
       "      <td>0.107262</td>\n",
       "      <td>-1.454592</td>\n",
       "      <td>1.878320</td>\n",
       "      <td>-0.887747</td>\n",
       "      <td>-0.662449</td>\n",
       "      <td>-0.581773</td>\n",
       "      <td>0.276492</td>\n",
       "      <td>-1.224401</td>\n",
       "      <td>...</td>\n",
       "      <td>-1.307739</td>\n",
       "      <td>-1.444106</td>\n",
       "      <td>-0.506717</td>\n",
       "      <td>0.241049</td>\n",
       "      <td>-5.453085</td>\n",
       "      <td>3.803787</td>\n",
       "      <td>1.411734</td>\n",
       "      <td>0.291510</td>\n",
       "      <td>1.956912</td>\n",
       "      <td>1</td>\n",
       "    </tr>\n",
       "    <tr>\n",
       "      <th>3</th>\n",
       "      <td>-0.390704</td>\n",
       "      <td>0.412876</td>\n",
       "      <td>0.560412</td>\n",
       "      <td>1.090925</td>\n",
       "      <td>-0.722382</td>\n",
       "      <td>1.105706</td>\n",
       "      <td>-0.662449</td>\n",
       "      <td>1.184043</td>\n",
       "      <td>0.754671</td>\n",
       "      <td>-0.071325</td>\n",
       "      <td>...</td>\n",
       "      <td>-0.164471</td>\n",
       "      <td>1.780456</td>\n",
       "      <td>0.028600</td>\n",
       "      <td>0.590830</td>\n",
       "      <td>0.546305</td>\n",
       "      <td>-1.031307</td>\n",
       "      <td>-0.735350</td>\n",
       "      <td>-0.425145</td>\n",
       "      <td>-1.361580</td>\n",
       "      <td>0</td>\n",
       "    </tr>\n",
       "    <tr>\n",
       "      <th>4</th>\n",
       "      <td>-0.390704</td>\n",
       "      <td>1.027033</td>\n",
       "      <td>-0.572465</td>\n",
       "      <td>-1.136402</td>\n",
       "      <td>1.781998</td>\n",
       "      <td>-0.563231</td>\n",
       "      <td>-0.092780</td>\n",
       "      <td>0.016562</td>\n",
       "      <td>-0.440776</td>\n",
       "      <td>-0.719930</td>\n",
       "      <td>...</td>\n",
       "      <td>-1.307739</td>\n",
       "      <td>-0.212251</td>\n",
       "      <td>-0.506717</td>\n",
       "      <td>-0.341919</td>\n",
       "      <td>0.697805</td>\n",
       "      <td>3.642617</td>\n",
       "      <td>-0.198579</td>\n",
       "      <td>-0.094381</td>\n",
       "      <td>0.590474</td>\n",
       "      <td>1</td>\n",
       "    </tr>\n",
       "  </tbody>\n",
       "</table>\n",
       "<p>5 rows × 21 columns</p>\n",
       "</div>"
      ],
      "text/plain": [
       "        0_x         1         2         3         4         5         6  \\\n",
       "0 -0.390704 -0.201280 -0.799040  0.772736 -0.096287 -1.119544 -0.377614   \n",
       "1 -0.165808 -0.815437 -0.572465  0.030293  0.048196  0.549394 -0.605482   \n",
       "2 -0.165808 -0.815437  0.107262 -1.454592  1.878320 -0.887747 -0.662449   \n",
       "3 -0.390704  0.412876  0.560412  1.090925 -0.722382  1.105706 -0.662449   \n",
       "4 -0.390704  1.027033 -0.572465 -1.136402  1.781998 -0.563231 -0.092780   \n",
       "\n",
       "          7         8         9 ...         11        12        13        14  \\\n",
       "0 -1.019579 -0.679865 -0.287527 ...  -0.545560 -0.176020 -0.506717 -0.458513   \n",
       "1  1.008921 -0.440776  0.144876 ...   1.169343  0.258752  0.028600 -0.458513   \n",
       "2 -0.581773  0.276492 -1.224401 ...  -1.307739 -1.444106 -0.506717  0.241049   \n",
       "3  1.184043  0.754671 -0.071325 ...  -0.164471  1.780456  0.028600  0.590830   \n",
       "4  0.016562 -0.440776 -0.719930 ...  -1.307739 -0.212251 -0.506717 -0.341919   \n",
       "\n",
       "         15        16        17        18        19  0_y  \n",
       "0  0.122106 -0.144873  0.338192 -0.259763 -0.385553    1  \n",
       "1  0.485705  0.741561 -0.198579 -0.314891 -0.580758    0  \n",
       "2 -5.453085  3.803787  1.411734  0.291510  1.956912    1  \n",
       "3  0.546305 -1.031307 -0.735350 -0.425145 -1.361580    0  \n",
       "4  0.697805  3.642617 -0.198579 -0.094381  0.590474    1  \n",
       "\n",
       "[5 rows x 21 columns]"
      ]
     },
     "execution_count": 28,
     "metadata": {},
     "output_type": "execute_result"
    }
   ],
   "source": [
    "df.head()"
   ]
  },
  {
   "cell_type": "code",
   "execution_count": 29,
   "metadata": {},
   "outputs": [],
   "source": [
    "X = df.iloc[:,0:20]\n",
    "y = df.iloc[:,20]"
   ]
  },
  {
   "cell_type": "code",
   "execution_count": 30,
   "metadata": {},
   "outputs": [],
   "source": [
    "from sklearn.model_selection import train_test_split\n",
    "Xtrain,Xtest,Ytrain,Ytest = train_test_split(X,y,test_size=0.3,random_state=420)"
   ]
  },
  {
   "cell_type": "code",
   "execution_count": 31,
   "metadata": {},
   "outputs": [],
   "source": [
    "from time import time\n",
    "import datetime\n",
    "from sklearn.model_selection import GridSearchCV\n",
    "import numpy as np"
   ]
  },
  {
   "cell_type": "code",
   "execution_count": 32,
   "metadata": {},
   "outputs": [
    {
     "name": "stderr",
     "output_type": "stream",
     "text": [
      "C:\\Users\\Administrator\\Anaconda3\\envs\\tensorflow\\lib\\site-packages\\sklearn\\linear_model\\logistic.py:433: FutureWarning: Default solver will be changed to 'lbfgs' in 0.22. Specify a solver to silence this warning.\n",
      "  FutureWarning)\n"
     ]
    }
   ],
   "source": [
    "from sklearn.tree import DecisionTreeClassifier\n",
    "from sklearn.ensemble import RandomForestClassifier\n",
    "from sklearn.linear_model import LogisticRegression as LR\n",
    "from sklearn.svm import SVC\n",
    "from xgboost import XGBClassifier as XGBC\n",
    "dtc = DecisionTreeClassifier(splitter='best',criterion='entropy',\n",
    "                             max_depth=9,min_impurity_decrease=0,min_samples_leaf=6,random_state=25).fit(Xtrain,Ytrain)\n",
    "rfc = RandomForestClassifier(n_estimators=111,random_state=90).fit(Xtrain,Ytrain)\n",
    "lr = LR(C=0.1028).fit(Xtrain,Ytrain)\n",
    "xgbc = XGBC(booster='gbtree',gamma=0.5,learning_rate=0.1,reg_alpha=0.5,cache_size = 5000).fit(Xtrain,Ytrain)"
   ]
  },
  {
   "cell_type": "code",
   "execution_count": 33,
   "metadata": {},
   "outputs": [],
   "source": [
    "from mlxtend.classifier import StackingClassifier\n",
    "model = StackingClassifier(classifiers=[dtc, rfc, xgbc,svc],\n",
    "                          meta_classifier=lr)"
   ]
  },
  {
   "cell_type": "code",
   "execution_count": 34,
   "metadata": {},
   "outputs": [
    {
     "name": "stderr",
     "output_type": "stream",
     "text": [
      "C:\\Users\\Administrator\\Anaconda3\\envs\\tensorflow\\lib\\site-packages\\sklearn\\linear_model\\logistic.py:433: FutureWarning: Default solver will be changed to 'lbfgs' in 0.22. Specify a solver to silence this warning.\n",
      "  FutureWarning)\n"
     ]
    }
   ],
   "source": [
    "end = model.fit(Xtrain,Ytrain)"
   ]
  },
  {
   "cell_type": "code",
   "execution_count": 35,
   "metadata": {},
   "outputs": [
    {
     "name": "stdout",
     "output_type": "stream",
     "text": [
      "准确率:0.8453,精确率:0.8592,召回率:0.8287,f1-score:0.8437,auc:0.8454\n"
     ]
    }
   ],
   "source": [
    "from sklearn import metrics\n",
    "Ytest_pred = end.predict(Xtest)\n",
    "acc = metrics.accuracy_score(Ytest,Ytest_pred1)\n",
    "precision = metrics.precision_score(Ytest,Ytest_pred1)\n",
    "recall = metrics.recall_score(Ytest,Ytest_pred1)\n",
    "f1 = metrics.f1_score(Ytest,Ytest_pred1)\n",
    "auc= metrics.roc_auc_score(Ytest,Ytest_pred1)\n",
    "print('准确率:{:.4f},精确率:{:.4f},召回率:{:.4f},f1-score:{:.4f},auc:{:.4f}'.format(acc,precision,recall,f1,auc))"
   ]
  },
  {
   "cell_type": "code",
   "execution_count": 36,
   "metadata": {},
   "outputs": [
    {
     "data": {
      "image/png": "[encoded data removed]",
      "text/plain": [
       "<Figure size 432x288 with 1 Axes>"
      ]
     },
     "metadata": {},
     "output_type": "display_data"
    }
   ],
   "source": [
    "from sklearn.metrics import roc_curve\n",
    "from sklearn.metrics import roc_auc_score as AUC\n",
    "import matplotlib.pyplot as plt\n",
    "plt.rcParams['font.sans-serif'] = 'SimHei'\n",
    "plt.figure()\n",
    "\n",
    "#plt.figure()  #只建立一个画布，将所有的ROC曲线在一个画布上画出来\n",
    "FPR, recall, thresholds = roc_curve(Ytest,Ytest_pred, pos_label=1)\n",
    "area = AUC(Ytest,Ytest_pred)\n",
    "plt.plot(FPR, recall,color='red',label='ROC curve (area = {:.2f})'.format(area))\n",
    "plt.plot([0, 1], [0, 1], color='black', linestyle='--')\n",
    "plt.xlim([-0.05, 1.05])\n",
    "plt.ylim([-0.05, 1.05])\n",
    "plt.xlabel('False Positive Rate')\n",
    "plt.ylabel('Recall')\n",
    "plt.title('Receiver operating characteristic example')\n",
    "plt.legend(loc=\"lower right\")\n",
    "plt.show()"
   ]
  },
  {
   "cell_type": "code",
   "execution_count": null,
   "metadata": {},
   "outputs": [],
   "source": []
  }
 ],
 "metadata": {
  "kernelspec": {
   "display_name": "Python 3",
   "language": "python",
   "name": "python3"
  },
  "language_info": {
   "codemirror_mode": {
    "name": "ipython",
    "version": 3
   },
   "file_extension": ".py",
   "mimetype": "text/x-python",
   "name": "python",
   "nbconvert_exporter": "python",
   "pygments_lexer": "ipython3",
   "version": "3.5.5"
  },
  "toc": {
   "base_numbering": 1,
   "nav_menu": {},
   "number_sections": true,
   "sideBar": true,
   "skip_h1_title": false,
   "title_cell": "Table of Contents",
   "title_sidebar": "Contents",
   "toc_cell": false,
   "toc_position": {},
   "toc_section_display": true,
   "toc_window_display": false
  }
 },
 "nbformat": 4,
 "nbformat_minor": 2
}
