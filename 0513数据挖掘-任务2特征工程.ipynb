{
 "cells": [
  {
   "cell_type": "markdown",
   "metadata": {},
   "source": [
    "# 数据探索和分析"
   ]
  },
  {
   "cell_type": "markdown",
   "metadata": {},
   "source": [
    "## 导入数据"
   ]
  },
  {
   "cell_type": "code",
   "execution_count": 184,
   "metadata": {},
   "outputs": [],
   "source": [
    "import pandas as pd\n",
    "import numpy as np"
   ]
  },
  {
   "cell_type": "code",
   "execution_count": 185,
   "metadata": {},
   "outputs": [],
   "source": [
    "df = pd.read_csv(r'C:\\Users\\Administrator\\Desktop\\data.csv',encoding='gbk')"
   ]
  },
  {
   "cell_type": "code",
   "execution_count": 186,
   "metadata": {},
   "outputs": [
    {
     "data": {
      "text/html": [
       "<div>\n",
       "<style scoped>\n",
       "    .dataframe tbody tr th:only-of-type {\n",
       "        vertical-align: middle;\n",
       "    }\n",
       "\n",
       "    .dataframe tbody tr th {\n",
       "        vertical-align: top;\n",
       "    }\n",
       "\n",
       "    .dataframe thead th {\n",
       "        text-align: right;\n",
       "    }\n",
       "</style>\n",
       "<table border=\"1\" class=\"dataframe\">\n",
       "  <thead>\n",
       "    <tr style=\"text-align: right;\">\n",
       "      <th></th>\n",
       "      <th>Unnamed: 0</th>\n",
       "      <th>custid</th>\n",
       "      <th>trade_no</th>\n",
       "      <th>bank_card_no</th>\n",
       "      <th>low_volume_percent</th>\n",
       "      <th>middle_volume_percent</th>\n",
       "      <th>take_amount_in_later_12_month_highest</th>\n",
       "      <th>trans_amount_increase_rate_lately</th>\n",
       "      <th>trans_activity_month</th>\n",
       "      <th>trans_activity_day</th>\n",
       "      <th>...</th>\n",
       "      <th>loans_max_limit</th>\n",
       "      <th>loans_avg_limit</th>\n",
       "      <th>consfin_credit_limit</th>\n",
       "      <th>consfin_credibility</th>\n",
       "      <th>consfin_org_count_current</th>\n",
       "      <th>consfin_product_count</th>\n",
       "      <th>consfin_max_limit</th>\n",
       "      <th>consfin_avg_limit</th>\n",
       "      <th>latest_query_day</th>\n",
       "      <th>loans_latest_day</th>\n",
       "    </tr>\n",
       "  </thead>\n",
       "  <tbody>\n",
       "    <tr>\n",
       "      <th>0</th>\n",
       "      <td>5</td>\n",
       "      <td>2791858</td>\n",
       "      <td>2.018050e+31</td>\n",
       "      <td>卡号1</td>\n",
       "      <td>0.01</td>\n",
       "      <td>0.99</td>\n",
       "      <td>0</td>\n",
       "      <td>0.90</td>\n",
       "      <td>0.55</td>\n",
       "      <td>0.313</td>\n",
       "      <td>...</td>\n",
       "      <td>2900.0</td>\n",
       "      <td>1688.0</td>\n",
       "      <td>1200.0</td>\n",
       "      <td>75.0</td>\n",
       "      <td>1.0</td>\n",
       "      <td>2.0</td>\n",
       "      <td>1200.0</td>\n",
       "      <td>1200.0</td>\n",
       "      <td>12.0</td>\n",
       "      <td>18.0</td>\n",
       "    </tr>\n",
       "    <tr>\n",
       "      <th>1</th>\n",
       "      <td>10</td>\n",
       "      <td>534047</td>\n",
       "      <td>2.018050e+31</td>\n",
       "      <td>卡号1</td>\n",
       "      <td>0.02</td>\n",
       "      <td>0.94</td>\n",
       "      <td>2000</td>\n",
       "      <td>1.28</td>\n",
       "      <td>1.00</td>\n",
       "      <td>0.458</td>\n",
       "      <td>...</td>\n",
       "      <td>3500.0</td>\n",
       "      <td>1758.0</td>\n",
       "      <td>15100.0</td>\n",
       "      <td>80.0</td>\n",
       "      <td>5.0</td>\n",
       "      <td>6.0</td>\n",
       "      <td>22800.0</td>\n",
       "      <td>9360.0</td>\n",
       "      <td>4.0</td>\n",
       "      <td>2.0</td>\n",
       "    </tr>\n",
       "    <tr>\n",
       "      <th>2</th>\n",
       "      <td>12</td>\n",
       "      <td>2849787</td>\n",
       "      <td>2.018050e+31</td>\n",
       "      <td>卡号1</td>\n",
       "      <td>0.04</td>\n",
       "      <td>0.96</td>\n",
       "      <td>0</td>\n",
       "      <td>1.00</td>\n",
       "      <td>1.00</td>\n",
       "      <td>0.114</td>\n",
       "      <td>...</td>\n",
       "      <td>1600.0</td>\n",
       "      <td>1250.0</td>\n",
       "      <td>4200.0</td>\n",
       "      <td>87.0</td>\n",
       "      <td>1.0</td>\n",
       "      <td>1.0</td>\n",
       "      <td>4200.0</td>\n",
       "      <td>4200.0</td>\n",
       "      <td>2.0</td>\n",
       "      <td>6.0</td>\n",
       "    </tr>\n",
       "    <tr>\n",
       "      <th>3</th>\n",
       "      <td>13</td>\n",
       "      <td>1809708</td>\n",
       "      <td>2.018050e+31</td>\n",
       "      <td>卡号1</td>\n",
       "      <td>0.00</td>\n",
       "      <td>0.96</td>\n",
       "      <td>2000</td>\n",
       "      <td>0.13</td>\n",
       "      <td>0.57</td>\n",
       "      <td>0.777</td>\n",
       "      <td>...</td>\n",
       "      <td>3200.0</td>\n",
       "      <td>1541.0</td>\n",
       "      <td>16300.0</td>\n",
       "      <td>80.0</td>\n",
       "      <td>5.0</td>\n",
       "      <td>5.0</td>\n",
       "      <td>30000.0</td>\n",
       "      <td>12180.0</td>\n",
       "      <td>2.0</td>\n",
       "      <td>4.0</td>\n",
       "    </tr>\n",
       "    <tr>\n",
       "      <th>4</th>\n",
       "      <td>14</td>\n",
       "      <td>2499829</td>\n",
       "      <td>2.018050e+31</td>\n",
       "      <td>卡号1</td>\n",
       "      <td>0.01</td>\n",
       "      <td>0.99</td>\n",
       "      <td>0</td>\n",
       "      <td>0.46</td>\n",
       "      <td>1.00</td>\n",
       "      <td>0.175</td>\n",
       "      <td>...</td>\n",
       "      <td>2300.0</td>\n",
       "      <td>1630.0</td>\n",
       "      <td>8300.0</td>\n",
       "      <td>79.0</td>\n",
       "      <td>2.0</td>\n",
       "      <td>2.0</td>\n",
       "      <td>8400.0</td>\n",
       "      <td>8250.0</td>\n",
       "      <td>22.0</td>\n",
       "      <td>120.0</td>\n",
       "    </tr>\n",
       "  </tbody>\n",
       "</table>\n",
       "<p>5 rows × 90 columns</p>\n",
       "</div>"
      ],
      "text/plain": [
       "   Unnamed: 0   custid      trade_no bank_card_no  low_volume_percent  \\\n",
       "0           5  2791858  2.018050e+31          卡号1                0.01   \n",
       "1          10   534047  2.018050e+31          卡号1                0.02   \n",
       "2          12  2849787  2.018050e+31          卡号1                0.04   \n",
       "3          13  1809708  2.018050e+31          卡号1                0.00   \n",
       "4          14  2499829  2.018050e+31          卡号1                0.01   \n",
       "\n",
       "   middle_volume_percent  take_amount_in_later_12_month_highest  \\\n",
       "0                   0.99                                      0   \n",
       "1                   0.94                                   2000   \n",
       "2                   0.96                                      0   \n",
       "3                   0.96                                   2000   \n",
       "4                   0.99                                      0   \n",
       "\n",
       "   trans_amount_increase_rate_lately  trans_activity_month  \\\n",
       "0                               0.90                  0.55   \n",
       "1                               1.28                  1.00   \n",
       "2                               1.00                  1.00   \n",
       "3                               0.13                  0.57   \n",
       "4                               0.46                  1.00   \n",
       "\n",
       "   trans_activity_day        ...         loans_max_limit  loans_avg_limit  \\\n",
       "0               0.313        ...                  2900.0           1688.0   \n",
       "1               0.458        ...                  3500.0           1758.0   \n",
       "2               0.114        ...                  1600.0           1250.0   \n",
       "3               0.777        ...                  3200.0           1541.0   \n",
       "4               0.175        ...                  2300.0           1630.0   \n",
       "\n",
       "   consfin_credit_limit  consfin_credibility  consfin_org_count_current  \\\n",
       "0                1200.0                 75.0                        1.0   \n",
       "1               15100.0                 80.0                        5.0   \n",
       "2                4200.0                 87.0                        1.0   \n",
       "3               16300.0                 80.0                        5.0   \n",
       "4                8300.0                 79.0                        2.0   \n",
       "\n",
       "   consfin_product_count  consfin_max_limit  consfin_avg_limit  \\\n",
       "0                    2.0             1200.0             1200.0   \n",
       "1                    6.0            22800.0             9360.0   \n",
       "2                    1.0             4200.0             4200.0   \n",
       "3                    5.0            30000.0            12180.0   \n",
       "4                    2.0             8400.0             8250.0   \n",
       "\n",
       "   latest_query_day  loans_latest_day  \n",
       "0              12.0              18.0  \n",
       "1               4.0               2.0  \n",
       "2               2.0               6.0  \n",
       "3               2.0               4.0  \n",
       "4              22.0             120.0  \n",
       "\n",
       "[5 rows x 90 columns]"
      ]
     },
     "execution_count": 186,
     "metadata": {},
     "output_type": "execute_result"
    }
   ],
   "source": [
    "df.head()"
   ]
  },
  {
   "cell_type": "code",
   "execution_count": 187,
   "metadata": {},
   "outputs": [
    {
     "data": {
      "text/plain": [
       "(4715, 90)"
      ]
     },
     "execution_count": 187,
     "metadata": {},
     "output_type": "execute_result"
    }
   ],
   "source": [
    "df.shape  #4715行90列"
   ]
  },
  {
   "cell_type": "code",
   "execution_count": 188,
   "metadata": {},
   "outputs": [
    {
     "data": {
      "text/plain": [
       "Index(['Unnamed: 0', 'custid', 'trade_no', 'bank_card_no',\n",
       "       'low_volume_percent', 'middle_volume_percent',\n",
       "       'take_amount_in_later_12_month_highest',\n",
       "       'trans_amount_increase_rate_lately', 'trans_activity_month',\n",
       "       'trans_activity_day', 'transd_mcc', 'trans_days_interval_filter',\n",
       "       'trans_days_interval', 'regional_mobility', 'student_feature',\n",
       "       'repayment_capability', 'is_high_user', 'number_of_trans_from_2011',\n",
       "       'first_transaction_time', 'historical_trans_amount',\n",
       "       'historical_trans_day', 'rank_trad_1_month', 'trans_amount_3_month',\n",
       "       'avg_consume_less_12_valid_month', 'abs',\n",
       "       'top_trans_count_last_1_month', 'avg_price_last_12_month',\n",
       "       'avg_price_top_last_12_valid_month', 'reg_preference_for_trad',\n",
       "       'trans_top_time_last_1_month', 'trans_top_time_last_6_month',\n",
       "       'consume_top_time_last_1_month', 'consume_top_time_last_6_month',\n",
       "       'cross_consume_count_last_1_month',\n",
       "       'trans_fail_top_count_enum_last_1_month',\n",
       "       'trans_fail_top_count_enum_last_6_month',\n",
       "       'trans_fail_top_count_enum_last_12_month',\n",
       "       'consume_mini_time_last_1_month',\n",
       "       'max_cumulative_consume_later_1_month',\n",
       "       'max_consume_count_later_6_month',\n",
       "       'railway_consume_count_last_12_month',\n",
       "       'pawns_auctions_trusts_consume_last_1_month',\n",
       "       'pawns_auctions_trusts_consume_last_6_month',\n",
       "       'jewelry_consume_count_last_6_month', 'status', 'source',\n",
       "       'first_transaction_day', 'trans_day_last_12_month', 'id_name',\n",
       "       'apply_score', 'apply_credibility', 'query_org_count',\n",
       "       'query_finance_count', 'query_cash_count', 'query_sum_count',\n",
       "       'latest_query_time', 'latest_one_month_apply',\n",
       "       'latest_three_month_apply', 'latest_six_month_apply', 'loans_score',\n",
       "       'loans_credibility_behavior', 'loans_count', 'loans_settle_count',\n",
       "       'loans_overdue_count', 'loans_org_count_behavior',\n",
       "       'consfin_org_count_behavior', 'loans_cash_count',\n",
       "       'latest_one_month_loan', 'latest_three_month_loan',\n",
       "       'latest_six_month_loan', 'history_suc_fee', 'history_fail_fee',\n",
       "       'latest_one_month_suc', 'latest_one_month_fail', 'loans_long_time',\n",
       "       'loans_latest_time', 'loans_credit_limit', 'loans_credibility_limit',\n",
       "       'loans_org_count_current', 'loans_product_count', 'loans_max_limit',\n",
       "       'loans_avg_limit', 'consfin_credit_limit', 'consfin_credibility',\n",
       "       'consfin_org_count_current', 'consfin_product_count',\n",
       "       'consfin_max_limit', 'consfin_avg_limit', 'latest_query_day',\n",
       "       'loans_latest_day'],\n",
       "      dtype='object')"
      ]
     },
     "execution_count": 188,
     "metadata": {},
     "output_type": "execute_result"
    }
   ],
   "source": [
    "df.columns  #查看数据特征"
   ]
  },
  {
   "cell_type": "markdown",
   "metadata": {},
   "source": [
    "## 删除无关特征"
   ]
  },
  {
   "cell_type": "code",
   "execution_count": 189,
   "metadata": {},
   "outputs": [],
   "source": [
    "#删除与标签没有关系的特征\n",
    "['Unnamed: 0', 'custid', 'trade_no', 'bank_card_no','id_name','latest_query_time','source','loans_latest_time','first_transaction_time']\n",
    "delete = ['Unnamed: 0', 'custid', 'trade_no', 'bank_card_no','id_name','latest_query_time','source','loans_latest_time','first_transaction_time']\n",
    "df = df.drop(delete,axis=1)"
   ]
  },
  {
   "cell_type": "code",
   "execution_count": 190,
   "metadata": {},
   "outputs": [
    {
     "data": {
      "text/plain": [
       "(4715, 81)"
      ]
     },
     "execution_count": 190,
     "metadata": {},
     "output_type": "execute_result"
    }
   ],
   "source": [
    "df.shape  #删除无关特征后，特征由90个变为81个"
   ]
  },
  {
   "cell_type": "code",
   "execution_count": 191,
   "metadata": {},
   "outputs": [],
   "source": [
    "nan_rate = pd.DataFrame((df.shape[0]-df.count())/df.shape[0])  #查看缺失值比例"
   ]
  },
  {
   "cell_type": "code",
   "execution_count": 192,
   "metadata": {},
   "outputs": [
    {
     "data": {
      "text/html": [
       "<div>\n",
       "<style scoped>\n",
       "    .dataframe tbody tr th:only-of-type {\n",
       "        vertical-align: middle;\n",
       "    }\n",
       "\n",
       "    .dataframe tbody tr th {\n",
       "        vertical-align: top;\n",
       "    }\n",
       "\n",
       "    .dataframe thead th {\n",
       "        text-align: right;\n",
       "    }\n",
       "</style>\n",
       "<table border=\"1\" class=\"dataframe\">\n",
       "  <thead>\n",
       "    <tr style=\"text-align: right;\">\n",
       "      <th></th>\n",
       "      <th>0</th>\n",
       "    </tr>\n",
       "  </thead>\n",
       "  <tbody>\n",
       "    <tr>\n",
       "      <th>student_feature</th>\n",
       "      <td>0.630753</td>\n",
       "    </tr>\n",
       "  </tbody>\n",
       "</table>\n",
       "</div>"
      ],
      "text/plain": [
       "                        0\n",
       "student_feature  0.630753"
      ]
     },
     "execution_count": 192,
     "metadata": {},
     "output_type": "execute_result"
    }
   ],
   "source": [
    "nan_rate[nan_rate.iloc[:,0]>0.5]  #student_feature缺失值达到63%，将其删除"
   ]
  },
  {
   "cell_type": "code",
   "execution_count": 193,
   "metadata": {},
   "outputs": [],
   "source": [
    "df = df.drop(['student_feature'],axis=1)"
   ]
  },
  {
   "cell_type": "code",
   "execution_count": 194,
   "metadata": {},
   "outputs": [
    {
     "data": {
      "text/plain": [
       "(4715, 80)"
      ]
     },
     "execution_count": 194,
     "metadata": {},
     "output_type": "execute_result"
    }
   ],
   "source": [
    "df.shape"
   ]
  },
  {
   "cell_type": "code",
   "execution_count": 195,
   "metadata": {},
   "outputs": [
    {
     "name": "stdout",
     "output_type": "stream",
     "text": [
      "<class 'pandas.core.frame.DataFrame'>\n",
      "RangeIndex: 4715 entries, 0 to 4714\n",
      "Data columns (total 80 columns):\n",
      "low_volume_percent                            4713 non-null float64\n",
      "middle_volume_percent                         4713 non-null float64\n",
      "take_amount_in_later_12_month_highest         4715 non-null int64\n",
      "trans_amount_increase_rate_lately             4712 non-null float64\n",
      "trans_activity_month                          4713 non-null float64\n",
      "trans_activity_day                            4713 non-null float64\n",
      "transd_mcc                                    4713 non-null float64\n",
      "trans_days_interval_filter                    4707 non-null float64\n",
      "trans_days_interval                           4713 non-null float64\n",
      "regional_mobility                             4713 non-null float64\n",
      "repayment_capability                          4715 non-null int64\n",
      "is_high_user                                  4715 non-null int64\n",
      "number_of_trans_from_2011                     4713 non-null float64\n",
      "historical_trans_amount                       4715 non-null int64\n",
      "historical_trans_day                          4713 non-null float64\n",
      "rank_trad_1_month                             4713 non-null float64\n",
      "trans_amount_3_month                          4715 non-null int64\n",
      "avg_consume_less_12_valid_month               4713 non-null float64\n",
      "abs                                           4715 non-null int64\n",
      "top_trans_count_last_1_month                  4713 non-null float64\n",
      "avg_price_last_12_month                       4715 non-null int64\n",
      "avg_price_top_last_12_valid_month             4612 non-null float64\n",
      "reg_preference_for_trad                       4713 non-null object\n",
      "trans_top_time_last_1_month                   4707 non-null float64\n",
      "trans_top_time_last_6_month                   4707 non-null float64\n",
      "consume_top_time_last_1_month                 4707 non-null float64\n",
      "consume_top_time_last_6_month                 4707 non-null float64\n",
      "cross_consume_count_last_1_month              4294 non-null float64\n",
      "trans_fail_top_count_enum_last_1_month        4699 non-null float64\n",
      "trans_fail_top_count_enum_last_6_month        4699 non-null float64\n",
      "trans_fail_top_count_enum_last_12_month       4699 non-null float64\n",
      "consume_mini_time_last_1_month                4689 non-null float64\n",
      "max_cumulative_consume_later_1_month          4715 non-null int64\n",
      "max_consume_count_later_6_month               4707 non-null float64\n",
      "railway_consume_count_last_12_month           4703 non-null float64\n",
      "pawns_auctions_trusts_consume_last_1_month    4715 non-null int64\n",
      "pawns_auctions_trusts_consume_last_6_month    4715 non-null int64\n",
      "jewelry_consume_count_last_6_month            4703 non-null float64\n",
      "status                                        4715 non-null int64\n",
      "first_transaction_day                         4713 non-null float64\n",
      "trans_day_last_12_month                       4713 non-null float64\n",
      "apply_score                                   4412 non-null float64\n",
      "apply_credibility                             4412 non-null float64\n",
      "query_org_count                               4412 non-null float64\n",
      "query_finance_count                           4412 non-null float64\n",
      "query_cash_count                              4412 non-null float64\n",
      "query_sum_count                               4412 non-null float64\n",
      "latest_one_month_apply                        4412 non-null float64\n",
      "latest_three_month_apply                      4411 non-null float64\n",
      "latest_six_month_apply                        4411 non-null float64\n",
      "loans_score                                   4418 non-null float64\n",
      "loans_credibility_behavior                    4418 non-null float64\n",
      "loans_count                                   4418 non-null float64\n",
      "loans_settle_count                            4418 non-null float64\n",
      "loans_overdue_count                           4418 non-null float64\n",
      "loans_org_count_behavior                      4418 non-null float64\n",
      "consfin_org_count_behavior                    4418 non-null float64\n",
      "loans_cash_count                              4418 non-null float64\n",
      "latest_one_month_loan                         4418 non-null float64\n",
      "latest_three_month_loan                       4418 non-null float64\n",
      "latest_six_month_loan                         4418 non-null float64\n",
      "history_suc_fee                               4418 non-null float64\n",
      "history_fail_fee                              4418 non-null float64\n",
      "latest_one_month_suc                          4418 non-null float64\n",
      "latest_one_month_fail                         4418 non-null float64\n",
      "loans_long_time                               4418 non-null float64\n",
      "loans_credit_limit                            4418 non-null float64\n",
      "loans_credibility_limit                       4418 non-null float64\n",
      "loans_org_count_current                       4418 non-null float64\n",
      "loans_product_count                           4418 non-null float64\n",
      "loans_max_limit                               4418 non-null float64\n",
      "loans_avg_limit                               4418 non-null float64\n",
      "consfin_credit_limit                          4418 non-null float64\n",
      "consfin_credibility                           4418 non-null float64\n",
      "consfin_org_count_current                     4418 non-null float64\n",
      "consfin_product_count                         4418 non-null float64\n",
      "consfin_max_limit                             4418 non-null float64\n",
      "consfin_avg_limit                             4418 non-null float64\n",
      "latest_query_day                              4411 non-null float64\n",
      "loans_latest_day                              4418 non-null float64\n",
      "dtypes: float64(68), int64(11), object(1)\n",
      "memory usage: 2.9+ MB\n"
     ]
    }
   ],
   "source": [
    "df.info()"
   ]
  },
  {
   "cell_type": "markdown",
   "metadata": {},
   "source": [
    "## 使用众数进行缺失值填充"
   ]
  },
  {
   "cell_type": "code",
   "execution_count": 196,
   "metadata": {},
   "outputs": [],
   "source": [
    "from sklearn.impute import SimpleImputer\n",
    "for i in range(df.shape[1]):\n",
    "    feature = df.iloc[:,i].values.reshape(-1,1)  #sklearn中特征矩阵必须是二维\n",
    "    imp_mode = SimpleImputer(strategy='most_frequent')\n",
    "    df.iloc[:,i] = imp_mode.fit_transform(feature)"
   ]
  },
  {
   "cell_type": "code",
   "execution_count": 197,
   "metadata": {},
   "outputs": [
    {
     "name": "stdout",
     "output_type": "stream",
     "text": [
      "<class 'pandas.core.frame.DataFrame'>\n",
      "RangeIndex: 4715 entries, 0 to 4714\n",
      "Data columns (total 80 columns):\n",
      "low_volume_percent                            4715 non-null float64\n",
      "middle_volume_percent                         4715 non-null float64\n",
      "take_amount_in_later_12_month_highest         4715 non-null int64\n",
      "trans_amount_increase_rate_lately             4715 non-null float64\n",
      "trans_activity_month                          4715 non-null float64\n",
      "trans_activity_day                            4715 non-null float64\n",
      "transd_mcc                                    4715 non-null float64\n",
      "trans_days_interval_filter                    4715 non-null float64\n",
      "trans_days_interval                           4715 non-null float64\n",
      "regional_mobility                             4715 non-null float64\n",
      "repayment_capability                          4715 non-null int64\n",
      "is_high_user                                  4715 non-null int64\n",
      "number_of_trans_from_2011                     4715 non-null float64\n",
      "historical_trans_amount                       4715 non-null int64\n",
      "historical_trans_day                          4715 non-null float64\n",
      "rank_trad_1_month                             4715 non-null float64\n",
      "trans_amount_3_month                          4715 non-null int64\n",
      "avg_consume_less_12_valid_month               4715 non-null float64\n",
      "abs                                           4715 non-null int64\n",
      "top_trans_count_last_1_month                  4715 non-null float64\n",
      "avg_price_last_12_month                       4715 non-null int64\n",
      "avg_price_top_last_12_valid_month             4715 non-null float64\n",
      "reg_preference_for_trad                       4715 non-null object\n",
      "trans_top_time_last_1_month                   4715 non-null float64\n",
      "trans_top_time_last_6_month                   4715 non-null float64\n",
      "consume_top_time_last_1_month                 4715 non-null float64\n",
      "consume_top_time_last_6_month                 4715 non-null float64\n",
      "cross_consume_count_last_1_month              4715 non-null float64\n",
      "trans_fail_top_count_enum_last_1_month        4715 non-null float64\n",
      "trans_fail_top_count_enum_last_6_month        4715 non-null float64\n",
      "trans_fail_top_count_enum_last_12_month       4715 non-null float64\n",
      "consume_mini_time_last_1_month                4715 non-null float64\n",
      "max_cumulative_consume_later_1_month          4715 non-null int64\n",
      "max_consume_count_later_6_month               4715 non-null float64\n",
      "railway_consume_count_last_12_month           4715 non-null float64\n",
      "pawns_auctions_trusts_consume_last_1_month    4715 non-null int64\n",
      "pawns_auctions_trusts_consume_last_6_month    4715 non-null int64\n",
      "jewelry_consume_count_last_6_month            4715 non-null float64\n",
      "status                                        4715 non-null int64\n",
      "first_transaction_day                         4715 non-null float64\n",
      "trans_day_last_12_month                       4715 non-null float64\n",
      "apply_score                                   4715 non-null float64\n",
      "apply_credibility                             4715 non-null float64\n",
      "query_org_count                               4715 non-null float64\n",
      "query_finance_count                           4715 non-null float64\n",
      "query_cash_count                              4715 non-null float64\n",
      "query_sum_count                               4715 non-null float64\n",
      "latest_one_month_apply                        4715 non-null float64\n",
      "latest_three_month_apply                      4715 non-null float64\n",
      "latest_six_month_apply                        4715 non-null float64\n",
      "loans_score                                   4715 non-null float64\n",
      "loans_credibility_behavior                    4715 non-null float64\n",
      "loans_count                                   4715 non-null float64\n",
      "loans_settle_count                            4715 non-null float64\n",
      "loans_overdue_count                           4715 non-null float64\n",
      "loans_org_count_behavior                      4715 non-null float64\n",
      "consfin_org_count_behavior                    4715 non-null float64\n",
      "loans_cash_count                              4715 non-null float64\n",
      "latest_one_month_loan                         4715 non-null float64\n",
      "latest_three_month_loan                       4715 non-null float64\n",
      "latest_six_month_loan                         4715 non-null float64\n",
      "history_suc_fee                               4715 non-null float64\n",
      "history_fail_fee                              4715 non-null float64\n",
      "latest_one_month_suc                          4715 non-null float64\n",
      "latest_one_month_fail                         4715 non-null float64\n",
      "loans_long_time                               4715 non-null float64\n",
      "loans_credit_limit                            4715 non-null float64\n",
      "loans_credibility_limit                       4715 non-null float64\n",
      "loans_org_count_current                       4715 non-null float64\n",
      "loans_product_count                           4715 non-null float64\n",
      "loans_max_limit                               4715 non-null float64\n",
      "loans_avg_limit                               4715 non-null float64\n",
      "consfin_credit_limit                          4715 non-null float64\n",
      "consfin_credibility                           4715 non-null float64\n",
      "consfin_org_count_current                     4715 non-null float64\n",
      "consfin_product_count                         4715 non-null float64\n",
      "consfin_max_limit                             4715 non-null float64\n",
      "consfin_avg_limit                             4715 non-null float64\n",
      "latest_query_day                              4715 non-null float64\n",
      "loans_latest_day                              4715 non-null float64\n",
      "dtypes: float64(68), int64(11), object(1)\n",
      "memory usage: 2.9+ MB\n"
     ]
    }
   ],
   "source": [
    "df.info()"
   ]
  },
  {
   "cell_type": "markdown",
   "metadata": {},
   "source": [
    "## 处理分类型特征"
   ]
  },
  {
   "cell_type": "code",
   "execution_count": 198,
   "metadata": {},
   "outputs": [],
   "source": [
    "from sklearn.preprocessing import OrdinalEncoder\n",
    "df['reg_preference_for_trad'] = OrdinalEncoder().fit_transform(df['reg_preference_for_trad'].values.reshape(-1,1))"
   ]
  },
  {
   "cell_type": "code",
   "execution_count": 199,
   "metadata": {},
   "outputs": [
    {
     "data": {
      "text/plain": [
       "(4715, 80)"
      ]
     },
     "execution_count": 199,
     "metadata": {},
     "output_type": "execute_result"
    }
   ],
   "source": [
    "df.shape"
   ]
  },
  {
   "cell_type": "code",
   "execution_count": 200,
   "metadata": {},
   "outputs": [
    {
     "name": "stdout",
     "output_type": "stream",
     "text": [
      "38\n"
     ]
    }
   ],
   "source": [
    "#查找标签值对应的索引\n",
    "for i in range(df.shape[1]):\n",
    "    if df.columns[i] == 'status':\n",
    "        print(i)"
   ]
  },
  {
   "cell_type": "code",
   "execution_count": 201,
   "metadata": {},
   "outputs": [
    {
     "data": {
      "text/plain": [
       "'status'"
      ]
     },
     "execution_count": 201,
     "metadata": {},
     "output_type": "execute_result"
    }
   ],
   "source": [
    "df.columns[38]"
   ]
  },
  {
   "cell_type": "code",
   "execution_count": 202,
   "metadata": {},
   "outputs": [],
   "source": [
    "y = df.iloc[:,38]\n",
    "X = df.drop(['status'],axis=1)"
   ]
  },
  {
   "cell_type": "code",
   "execution_count": 203,
   "metadata": {},
   "outputs": [
    {
     "data": {
      "text/plain": [
       "(4715, 79)"
      ]
     },
     "execution_count": 203,
     "metadata": {},
     "output_type": "execute_result"
    }
   ],
   "source": [
    "X.shape"
   ]
  },
  {
   "cell_type": "markdown",
   "metadata": {},
   "source": [
    "# 特征工程"
   ]
  },
  {
   "cell_type": "markdown",
   "metadata": {},
   "source": [
    "## 特征工程——方差过滤"
   ]
  },
  {
   "cell_type": "code",
   "execution_count": 204,
   "metadata": {},
   "outputs": [],
   "source": [
    "from sklearn.feature_selection import VarianceThreshold\n",
    "X_fsvar = VarianceThreshold().fit_transform(X) #实例化，不填写参数默认方差为0"
   ]
  },
  {
   "cell_type": "code",
   "execution_count": 205,
   "metadata": {},
   "outputs": [
    {
     "data": {
      "text/plain": [
       "(4715, 79)"
      ]
     },
     "execution_count": 205,
     "metadata": {},
     "output_type": "execute_result"
    }
   ],
   "source": [
    "X_fsvar.shape #方差过滤阈值为0时没有删除任何特征"
   ]
  },
  {
   "cell_type": "markdown",
   "metadata": {},
   "source": [
    "## 特征工程——互信息法"
   ]
  },
  {
   "cell_type": "code",
   "execution_count": 206,
   "metadata": {},
   "outputs": [],
   "source": [
    "#互信息法,它返回每个特征与目标之间的互信息量的估计，这个估计在[0,1]之间取值，0表示独立，1表示两个\n",
    "#变量完全相关\n",
    "from sklearn.feature_selection import mutual_info_classif as MIC\n",
    "result = MIC(X,y)"
   ]
  },
  {
   "cell_type": "code",
   "execution_count": 207,
   "metadata": {},
   "outputs": [
    {
     "data": {
      "text/plain": [
       "24"
      ]
     },
     "execution_count": 207,
     "metadata": {},
     "output_type": "execute_result"
    }
   ],
   "source": [
    "(result == 0).sum()"
   ]
  },
  {
   "cell_type": "code",
   "execution_count": 208,
   "metadata": {},
   "outputs": [],
   "source": [
    "delete = []\n",
    "for i in range(79):\n",
    "    if result[i] == 0:\n",
    "        delete.append(i)"
   ]
  },
  {
   "cell_type": "code",
   "execution_count": 209,
   "metadata": {},
   "outputs": [],
   "source": [
    "X_ = X.drop(X.iloc[:,delete],axis=1)"
   ]
  },
  {
   "cell_type": "code",
   "execution_count": 210,
   "metadata": {},
   "outputs": [
    {
     "data": {
      "text/plain": [
       "(4715, 55)"
      ]
     },
     "execution_count": 210,
     "metadata": {},
     "output_type": "execute_result"
    }
   ],
   "source": [
    "X_.shape"
   ]
  },
  {
   "cell_type": "code",
   "execution_count": 211,
   "metadata": {},
   "outputs": [],
   "source": [
    "X1 = X_.copy()\n",
    "X2 = X_.copy()"
   ]
  },
  {
   "cell_type": "markdown",
   "metadata": {},
   "source": [
    "## 计算IV值"
   ]
  },
  {
   "cell_type": "code",
   "execution_count": 212,
   "metadata": {},
   "outputs": [],
   "source": [
    "#IV值用来衡量自变量预测能力。"
   ]
  },
  {
   "cell_type": "code",
   "execution_count": 213,
   "metadata": {},
   "outputs": [],
   "source": [
    "import math\n",
    "import numpy as np\n",
    "from scipy import stats\n",
    "from sklearn.utils.multiclass import type_of_target\n",
    "\n",
    "def woe(X, y, event=1):  \n",
    "    res_woe = []\n",
    "    iv_dict = {}\n",
    "    for feature in X.columns:\n",
    "        x = X[feature].values\n",
    "        # 1) 连续特征离散化\n",
    "        if type_of_target(x) == 'continuous':\n",
    "            x = discrete(x)\n",
    "        # 2) 计算该特征的woe和iv\n",
    "        # woe_dict, iv = woe_single_x(x, y, feature, event)\n",
    "        woe_dict, iv = woe_single_x(x, y, feature, event)\n",
    "        iv_dict[feature] = iv\n",
    "        res_woe.append(woe_dict) \n",
    "        \n",
    "    return iv_dict"
   ]
  },
  {
   "cell_type": "code",
   "execution_count": 214,
   "metadata": {},
   "outputs": [],
   "source": [
    "def discrete(x):\n",
    "    # 使用5等分离散化特征\n",
    "    res = np.zeros(x.shape)\n",
    "    for i in range(5):\n",
    "        point1 = stats.scoreatpercentile(x, i * 20)\n",
    "        point2 = stats.scoreatpercentile(x, (i + 1) * 20)\n",
    "        x1 = x[np.where((x >= point1) & (x <= point2))]\n",
    "        mask = np.in1d(x, x1)\n",
    "        res[mask] = i + 1    # 将[i, i+1]块内的值标记成i+1\n",
    "    return res"
   ]
  },
  {
   "cell_type": "code",
   "execution_count": 215,
   "metadata": {},
   "outputs": [],
   "source": [
    "def woe_single_x(x, y, feature,event = 1):\n",
    "    # event代表预测正例的标签\n",
    "    event_total = (y == event).sum()\n",
    "    non_event_total = y.shape[-1] - event_total\n",
    "    \n",
    "    iv = 0\n",
    "    woe_dict = {}\n",
    "    for x1 in set(x):    # 遍历各个块\n",
    "        y1 = y.reindex(np.where(x == x1)[0])\n",
    "        event_count = sum(y1 == event)\n",
    "        non_event_count = y1.shape[-1] - event_count\n",
    "        rate_event = event_count / event_total    \n",
    "        rate_non_event = non_event_count / non_event_total\n",
    "        \n",
    "        if rate_event == 0:\n",
    "            rate_event = 0.0001\n",
    "            # woei = -20\n",
    "        elif rate_non_event == 0:\n",
    "            rate_non_event = 0.0001\n",
    "            # woei = 20\n",
    "        woei = math.log(rate_event / rate_non_event)\n",
    "        woe_dict[x1] = woei\n",
    "        iv += (rate_event - rate_non_event) * woei\n",
    "    return woe_dict, iv"
   ]
  },
  {
   "cell_type": "code",
   "execution_count": 216,
   "metadata": {},
   "outputs": [
    {
     "data": {
      "text/html": [
       "<div>\n",
       "<style scoped>\n",
       "    .dataframe tbody tr th:only-of-type {\n",
       "        vertical-align: middle;\n",
       "    }\n",
       "\n",
       "    .dataframe tbody tr th {\n",
       "        vertical-align: top;\n",
       "    }\n",
       "\n",
       "    .dataframe thead th {\n",
       "        text-align: right;\n",
       "    }\n",
       "</style>\n",
       "<table border=\"1\" class=\"dataframe\">\n",
       "  <thead>\n",
       "    <tr style=\"text-align: right;\">\n",
       "      <th></th>\n",
       "      <th>Var</th>\n",
       "      <th>Iv</th>\n",
       "    </tr>\n",
       "  </thead>\n",
       "  <tbody>\n",
       "    <tr>\n",
       "      <th>0</th>\n",
       "      <td>historical_trans_amount</td>\n",
       "      <td>2.512028</td>\n",
       "    </tr>\n",
       "    <tr>\n",
       "      <th>1</th>\n",
       "      <td>trans_amount_3_month</td>\n",
       "      <td>2.340614</td>\n",
       "    </tr>\n",
       "    <tr>\n",
       "      <th>2</th>\n",
       "      <td>pawns_auctions_trusts_consume_last_6_month</td>\n",
       "      <td>1.979195</td>\n",
       "    </tr>\n",
       "    <tr>\n",
       "      <th>3</th>\n",
       "      <td>abs</td>\n",
       "      <td>1.459810</td>\n",
       "    </tr>\n",
       "    <tr>\n",
       "      <th>4</th>\n",
       "      <td>consfin_avg_limit</td>\n",
       "      <td>1.392812</td>\n",
       "    </tr>\n",
       "    <tr>\n",
       "      <th>5</th>\n",
       "      <td>consume_mini_time_last_1_month</td>\n",
       "      <td>1.130859</td>\n",
       "    </tr>\n",
       "    <tr>\n",
       "      <th>6</th>\n",
       "      <td>max_cumulative_consume_later_1_month</td>\n",
       "      <td>0.899660</td>\n",
       "    </tr>\n",
       "    <tr>\n",
       "      <th>7</th>\n",
       "      <td>loans_score</td>\n",
       "      <td>0.878421</td>\n",
       "    </tr>\n",
       "    <tr>\n",
       "      <th>8</th>\n",
       "      <td>apply_score</td>\n",
       "      <td>0.708841</td>\n",
       "    </tr>\n",
       "    <tr>\n",
       "      <th>9</th>\n",
       "      <td>history_fail_fee</td>\n",
       "      <td>0.628257</td>\n",
       "    </tr>\n",
       "    <tr>\n",
       "      <th>10</th>\n",
       "      <td>pawns_auctions_trusts_consume_last_1_month</td>\n",
       "      <td>0.610065</td>\n",
       "    </tr>\n",
       "    <tr>\n",
       "      <th>11</th>\n",
       "      <td>trans_fail_top_count_enum_last_1_month</td>\n",
       "      <td>0.606283</td>\n",
       "    </tr>\n",
       "    <tr>\n",
       "      <th>12</th>\n",
       "      <td>historical_trans_day</td>\n",
       "      <td>0.588417</td>\n",
       "    </tr>\n",
       "    <tr>\n",
       "      <th>13</th>\n",
       "      <td>consfin_credit_limit</td>\n",
       "      <td>0.387179</td>\n",
       "    </tr>\n",
       "    <tr>\n",
       "      <th>14</th>\n",
       "      <td>loans_overdue_count</td>\n",
       "      <td>0.379286</td>\n",
       "    </tr>\n",
       "    <tr>\n",
       "      <th>15</th>\n",
       "      <td>latest_one_month_fail</td>\n",
       "      <td>0.329097</td>\n",
       "    </tr>\n",
       "    <tr>\n",
       "      <th>16</th>\n",
       "      <td>trans_fail_top_count_enum_last_6_month</td>\n",
       "      <td>0.289525</td>\n",
       "    </tr>\n",
       "    <tr>\n",
       "      <th>17</th>\n",
       "      <td>trans_fail_top_count_enum_last_12_month</td>\n",
       "      <td>0.289119</td>\n",
       "    </tr>\n",
       "    <tr>\n",
       "      <th>18</th>\n",
       "      <td>latest_query_day</td>\n",
       "      <td>0.267175</td>\n",
       "    </tr>\n",
       "    <tr>\n",
       "      <th>19</th>\n",
       "      <td>trans_day_last_12_month</td>\n",
       "      <td>0.236667</td>\n",
       "    </tr>\n",
       "    <tr>\n",
       "      <th>20</th>\n",
       "      <td>loans_long_time</td>\n",
       "      <td>0.198588</td>\n",
       "    </tr>\n",
       "    <tr>\n",
       "      <th>21</th>\n",
       "      <td>consfin_max_limit</td>\n",
       "      <td>0.197762</td>\n",
       "    </tr>\n",
       "    <tr>\n",
       "      <th>22</th>\n",
       "      <td>take_amount_in_later_12_month_highest</td>\n",
       "      <td>0.184190</td>\n",
       "    </tr>\n",
       "    <tr>\n",
       "      <th>23</th>\n",
       "      <td>history_suc_fee</td>\n",
       "      <td>0.176457</td>\n",
       "    </tr>\n",
       "    <tr>\n",
       "      <th>24</th>\n",
       "      <td>loans_count</td>\n",
       "      <td>0.165925</td>\n",
       "    </tr>\n",
       "    <tr>\n",
       "      <th>25</th>\n",
       "      <td>latest_one_month_suc</td>\n",
       "      <td>0.150887</td>\n",
       "    </tr>\n",
       "    <tr>\n",
       "      <th>26</th>\n",
       "      <td>trans_days_interval</td>\n",
       "      <td>0.128186</td>\n",
       "    </tr>\n",
       "    <tr>\n",
       "      <th>27</th>\n",
       "      <td>trans_top_time_last_1_month</td>\n",
       "      <td>0.102724</td>\n",
       "    </tr>\n",
       "    <tr>\n",
       "      <th>28</th>\n",
       "      <td>rank_trad_1_month</td>\n",
       "      <td>0.101578</td>\n",
       "    </tr>\n",
       "    <tr>\n",
       "      <th>29</th>\n",
       "      <td>consume_top_time_last_6_month</td>\n",
       "      <td>0.098774</td>\n",
       "    </tr>\n",
       "    <tr>\n",
       "      <th>30</th>\n",
       "      <td>consume_top_time_last_1_month</td>\n",
       "      <td>0.095373</td>\n",
       "    </tr>\n",
       "    <tr>\n",
       "      <th>31</th>\n",
       "      <td>query_sum_count</td>\n",
       "      <td>0.076496</td>\n",
       "    </tr>\n",
       "    <tr>\n",
       "      <th>32</th>\n",
       "      <td>top_trans_count_last_1_month</td>\n",
       "      <td>0.067086</td>\n",
       "    </tr>\n",
       "    <tr>\n",
       "      <th>33</th>\n",
       "      <td>loans_credit_limit</td>\n",
       "      <td>0.059499</td>\n",
       "    </tr>\n",
       "    <tr>\n",
       "      <th>34</th>\n",
       "      <td>latest_three_month_apply</td>\n",
       "      <td>0.059394</td>\n",
       "    </tr>\n",
       "    <tr>\n",
       "      <th>35</th>\n",
       "      <td>latest_three_month_loan</td>\n",
       "      <td>0.058512</td>\n",
       "    </tr>\n",
       "    <tr>\n",
       "      <th>36</th>\n",
       "      <td>latest_six_month_apply</td>\n",
       "      <td>0.054336</td>\n",
       "    </tr>\n",
       "    <tr>\n",
       "      <th>37</th>\n",
       "      <td>transd_mcc</td>\n",
       "      <td>0.050337</td>\n",
       "    </tr>\n",
       "    <tr>\n",
       "      <th>38</th>\n",
       "      <td>apply_credibility</td>\n",
       "      <td>0.046512</td>\n",
       "    </tr>\n",
       "    <tr>\n",
       "      <th>39</th>\n",
       "      <td>loans_credibility_limit</td>\n",
       "      <td>0.040724</td>\n",
       "    </tr>\n",
       "    <tr>\n",
       "      <th>40</th>\n",
       "      <td>max_consume_count_later_6_month</td>\n",
       "      <td>0.039053</td>\n",
       "    </tr>\n",
       "    <tr>\n",
       "      <th>41</th>\n",
       "      <td>query_org_count</td>\n",
       "      <td>0.037514</td>\n",
       "    </tr>\n",
       "    <tr>\n",
       "      <th>42</th>\n",
       "      <td>loans_org_count_current</td>\n",
       "      <td>0.035967</td>\n",
       "    </tr>\n",
       "    <tr>\n",
       "      <th>43</th>\n",
       "      <td>loans_product_count</td>\n",
       "      <td>0.035482</td>\n",
       "    </tr>\n",
       "    <tr>\n",
       "      <th>44</th>\n",
       "      <td>consfin_credibility</td>\n",
       "      <td>0.030500</td>\n",
       "    </tr>\n",
       "    <tr>\n",
       "      <th>45</th>\n",
       "      <td>avg_price_top_last_12_valid_month</td>\n",
       "      <td>0.030019</td>\n",
       "    </tr>\n",
       "    <tr>\n",
       "      <th>46</th>\n",
       "      <td>consfin_org_count_behavior</td>\n",
       "      <td>0.026608</td>\n",
       "    </tr>\n",
       "    <tr>\n",
       "      <th>47</th>\n",
       "      <td>cross_consume_count_last_1_month</td>\n",
       "      <td>0.019902</td>\n",
       "    </tr>\n",
       "    <tr>\n",
       "      <th>48</th>\n",
       "      <td>trans_amount_increase_rate_lately</td>\n",
       "      <td>0.019327</td>\n",
       "    </tr>\n",
       "    <tr>\n",
       "      <th>49</th>\n",
       "      <td>low_volume_percent</td>\n",
       "      <td>0.015473</td>\n",
       "    </tr>\n",
       "    <tr>\n",
       "      <th>50</th>\n",
       "      <td>middle_volume_percent</td>\n",
       "      <td>0.014648</td>\n",
       "    </tr>\n",
       "    <tr>\n",
       "      <th>51</th>\n",
       "      <td>regional_mobility</td>\n",
       "      <td>0.008803</td>\n",
       "    </tr>\n",
       "    <tr>\n",
       "      <th>52</th>\n",
       "      <td>railway_consume_count_last_12_month</td>\n",
       "      <td>0.008238</td>\n",
       "    </tr>\n",
       "    <tr>\n",
       "      <th>53</th>\n",
       "      <td>is_high_user</td>\n",
       "      <td>0.005280</td>\n",
       "    </tr>\n",
       "    <tr>\n",
       "      <th>54</th>\n",
       "      <td>trans_activity_day</td>\n",
       "      <td>0.003809</td>\n",
       "    </tr>\n",
       "  </tbody>\n",
       "</table>\n",
       "</div>"
      ],
      "text/plain": [
       "                                           Var        Iv\n",
       "0                      historical_trans_amount  2.512028\n",
       "1                         trans_amount_3_month  2.340614\n",
       "2   pawns_auctions_trusts_consume_last_6_month  1.979195\n",
       "3                                          abs  1.459810\n",
       "4                            consfin_avg_limit  1.392812\n",
       "5               consume_mini_time_last_1_month  1.130859\n",
       "6         max_cumulative_consume_later_1_month  0.899660\n",
       "7                                  loans_score  0.878421\n",
       "8                                  apply_score  0.708841\n",
       "9                             history_fail_fee  0.628257\n",
       "10  pawns_auctions_trusts_consume_last_1_month  0.610065\n",
       "11      trans_fail_top_count_enum_last_1_month  0.606283\n",
       "12                        historical_trans_day  0.588417\n",
       "13                        consfin_credit_limit  0.387179\n",
       "14                         loans_overdue_count  0.379286\n",
       "15                       latest_one_month_fail  0.329097\n",
       "16      trans_fail_top_count_enum_last_6_month  0.289525\n",
       "17     trans_fail_top_count_enum_last_12_month  0.289119\n",
       "18                            latest_query_day  0.267175\n",
       "19                     trans_day_last_12_month  0.236667\n",
       "20                             loans_long_time  0.198588\n",
       "21                           consfin_max_limit  0.197762\n",
       "22       take_amount_in_later_12_month_highest  0.184190\n",
       "23                             history_suc_fee  0.176457\n",
       "24                                 loans_count  0.165925\n",
       "25                        latest_one_month_suc  0.150887\n",
       "26                         trans_days_interval  0.128186\n",
       "27                 trans_top_time_last_1_month  0.102724\n",
       "28                           rank_trad_1_month  0.101578\n",
       "29               consume_top_time_last_6_month  0.098774\n",
       "30               consume_top_time_last_1_month  0.095373\n",
       "31                             query_sum_count  0.076496\n",
       "32                top_trans_count_last_1_month  0.067086\n",
       "33                          loans_credit_limit  0.059499\n",
       "34                    latest_three_month_apply  0.059394\n",
       "35                     latest_three_month_loan  0.058512\n",
       "36                      latest_six_month_apply  0.054336\n",
       "37                                  transd_mcc  0.050337\n",
       "38                           apply_credibility  0.046512\n",
       "39                     loans_credibility_limit  0.040724\n",
       "40             max_consume_count_later_6_month  0.039053\n",
       "41                             query_org_count  0.037514\n",
       "42                     loans_org_count_current  0.035967\n",
       "43                         loans_product_count  0.035482\n",
       "44                         consfin_credibility  0.030500\n",
       "45           avg_price_top_last_12_valid_month  0.030019\n",
       "46                  consfin_org_count_behavior  0.026608\n",
       "47            cross_consume_count_last_1_month  0.019902\n",
       "48           trans_amount_increase_rate_lately  0.019327\n",
       "49                          low_volume_percent  0.015473\n",
       "50                       middle_volume_percent  0.014648\n",
       "51                           regional_mobility  0.008803\n",
       "52         railway_consume_count_last_12_month  0.008238\n",
       "53                                is_high_user  0.005280\n",
       "54                          trans_activity_day  0.003809"
      ]
     },
     "execution_count": 216,
     "metadata": {},
     "output_type": "execute_result"
    }
   ],
   "source": [
    "import warnings\n",
    "warnings.filterwarnings(\"ignore\")\n",
    "iv_dict = woe(X1,y)\n",
    "iv = pd.DataFrame(sorted(iv_dict.items(), key = lambda x:x[1],reverse = True),columns=['Var','Iv'])\n",
    "iv"
   ]
  },
  {
   "cell_type": "code",
   "execution_count": 217,
   "metadata": {},
   "outputs": [],
   "source": [
    "#IV值的取值范围是[0,正无穷]，<0.02,无用，0.02-0.1弱预测，0.1-0.3中等预测，0.3-0.5强预测\n",
    "#>0.5可疑\n",
    "threshold1 = 0.02\n",
    "threshold2 = 0.5\n",
    "data_index = []\n",
    "for i in range(len(iv)):\n",
    "    if (iv['Iv'][i]<threshold1)|(iv['Iv'][i]>threshold2):\n",
    "        data_index.append(iv['Var'][i])\n",
    "X1.drop(data_index,axis=1,inplace=True)"
   ]
  },
  {
   "cell_type": "code",
   "execution_count": 218,
   "metadata": {},
   "outputs": [
    {
     "data": {
      "text/plain": [
       "(4715, 34)"
      ]
     },
     "execution_count": 218,
     "metadata": {},
     "output_type": "execute_result"
    }
   ],
   "source": [
    "X1.shape  #特征由原来的52个变为36个"
   ]
  },
  {
   "cell_type": "code",
   "execution_count": 219,
   "metadata": {},
   "outputs": [
    {
     "data": {
      "text/plain": [
       "Index(['take_amount_in_later_12_month_highest', 'transd_mcc',\n",
       "       'trans_days_interval', 'rank_trad_1_month',\n",
       "       'top_trans_count_last_1_month', 'avg_price_top_last_12_valid_month',\n",
       "       'trans_top_time_last_1_month', 'consume_top_time_last_1_month',\n",
       "       'consume_top_time_last_6_month',\n",
       "       'trans_fail_top_count_enum_last_6_month',\n",
       "       'trans_fail_top_count_enum_last_12_month',\n",
       "       'max_consume_count_later_6_month', 'trans_day_last_12_month',\n",
       "       'apply_credibility', 'query_org_count', 'query_sum_count',\n",
       "       'latest_three_month_apply', 'latest_six_month_apply', 'loans_count',\n",
       "       'loans_overdue_count', 'consfin_org_count_behavior',\n",
       "       'latest_three_month_loan', 'history_suc_fee', 'latest_one_month_suc',\n",
       "       'latest_one_month_fail', 'loans_long_time', 'loans_credit_limit',\n",
       "       'loans_credibility_limit', 'loans_org_count_current',\n",
       "       'loans_product_count', 'consfin_credit_limit', 'consfin_credibility',\n",
       "       'consfin_max_limit', 'latest_query_day'],\n",
       "      dtype='object')"
      ]
     },
     "execution_count": 219,
     "metadata": {},
     "output_type": "execute_result"
    }
   ],
   "source": [
    "X1.columns"
   ]
  },
  {
   "cell_type": "markdown",
   "metadata": {},
   "source": [
    "## 利用随机森林挑选特征值"
   ]
  },
  {
   "cell_type": "code",
   "execution_count": 220,
   "metadata": {},
   "outputs": [],
   "source": [
    "#利用随机森林进行特征选择，主要用到了随机森林的重要属性，feature_imoportances，\n",
    "#能够查看各个特征对模型的重要性。"
   ]
  },
  {
   "cell_type": "code",
   "execution_count": 221,
   "metadata": {},
   "outputs": [
    {
     "data": {
      "text/plain": [
       "Index(['loans_overdue_count', 'latest_one_month_fail', 'latest_query_day',\n",
       "       'history_suc_fee', 'trans_fail_top_count_enum_last_12_month',\n",
       "       'trans_days_interval', 'trans_fail_top_count_enum_last_6_month',\n",
       "       'consfin_credit_limit', 'consume_top_time_last_6_month',\n",
       "       'loans_long_time', 'rank_trad_1_month', 'trans_day_last_12_month',\n",
       "       'transd_mcc', 'take_amount_in_later_12_month_highest', 'loans_count',\n",
       "       'consfin_max_limit', 'query_org_count', 'apply_credibility',\n",
       "       'avg_price_top_last_12_valid_month', 'loans_credit_limit'],\n",
       "      dtype='object')"
      ]
     },
     "execution_count": 221,
     "metadata": {},
     "output_type": "execute_result"
    }
   ],
   "source": [
    "from sklearn.ensemble import RandomForestClassifier\n",
    "rfc = RandomForestClassifier()\n",
    "rfc.fit(X1, y)\n",
    "rfc_impc = pd.Series(rfc.feature_importances_, index = X1.columns).sort_values(ascending=False)\n",
    "fea_gini = rfc_impc[:20].index\n",
    "fea_gini"
   ]
  },
  {
   "cell_type": "code",
   "execution_count": 222,
   "metadata": {},
   "outputs": [
    {
     "data": {
      "text/plain": [
       "(4715, 20)"
      ]
     },
     "execution_count": 222,
     "metadata": {},
     "output_type": "execute_result"
    }
   ],
   "source": [
    "finalX = X_.loc[:,fea_gini]\n",
    "finalX.shape"
   ]
  },
  {
   "cell_type": "code",
   "execution_count": 223,
   "metadata": {},
   "outputs": [],
   "source": [
    "## 样本不平衡处理"
   ]
  },
  {
   "cell_type": "code",
   "execution_count": 224,
   "metadata": {},
   "outputs": [
    {
     "data": {
      "text/plain": [
       "0.3349377123442809"
      ]
     },
     "execution_count": 224,
     "metadata": {},
     "output_type": "execute_result"
    }
   ],
   "source": [
    "y[y==1].count()/y[y==0].count()"
   ]
  },
  {
   "cell_type": "code",
   "execution_count": 225,
   "metadata": {},
   "outputs": [],
   "source": [
    "import imblearn\n",
    "from imblearn.over_sampling import SMOTE\n",
    "sm = SMOTE(random_state=420)\n",
    "X,y = sm.fit_sample(finalX,y)"
   ]
  },
  {
   "cell_type": "code",
   "execution_count": 226,
   "metadata": {},
   "outputs": [],
   "source": [
    "n_sample_ = X.shape[0]"
   ]
  },
  {
   "cell_type": "code",
   "execution_count": 227,
   "metadata": {},
   "outputs": [
    {
     "data": {
      "text/plain": [
       "1    3532\n",
       "0    3532\n",
       "dtype: int64"
      ]
     },
     "execution_count": 227,
     "metadata": {},
     "output_type": "execute_result"
    }
   ],
   "source": [
    "pd.Series(y).value_counts()"
   ]
  },
  {
   "cell_type": "code",
   "execution_count": 228,
   "metadata": {},
   "outputs": [
    {
     "name": "stdout",
     "output_type": "stream",
     "text": [
      "样本个数：7064; 1占50.00%; 0占50.00%\n"
     ]
    }
   ],
   "source": [
    "n_1_sample = pd.Series(y).value_counts()[1]\n",
    "n_0_sample = pd.Series(y).value_counts()[0]\n",
    "print('样本个数：{}; 1占{:.2%}; 0占{:.2%}'.format(n_sample_,n_1_sample/n_sample_,n_0_sample/n_sample_))"
   ]
  },
  {
   "cell_type": "markdown",
   "metadata": {},
   "source": [
    "## 将数据分为训练集和测试集"
   ]
  },
  {
   "cell_type": "code",
   "execution_count": 229,
   "metadata": {},
   "outputs": [],
   "source": [
    "from sklearn.model_selection import train_test_split\n",
    "Xtrain,Xtest,Ytrain,Ytest = train_test_split(X,y,test_size=0.3,random_state=420)"
   ]
  },
  {
   "cell_type": "code",
   "execution_count": 230,
   "metadata": {},
   "outputs": [
    {
     "name": "stdout",
     "output_type": "stream",
     "text": [
      "准确率:0.8104,精确率:0.8370,召回率:0.7743,f1-score:0.8045,auc:0.8107\n"
     ]
    }
   ],
   "source": [
    "from sklearn.ensemble import RandomForestClassifier\n",
    "from sklearn import metrics\n",
    "rfc = RandomForestClassifier(n_estimators=10)\n",
    "rfc.fit(Xtrain,Ytrain)\n",
    "acc = rfc.score(Xtest,Ytest)\n",
    "\n",
    "Ytest_pred = rfc.predict(Xtest)\n",
    "acc = metrics.accuracy_score(Ytest,Ytest_pred)\n",
    "precision = metrics.precision_score(Ytest,Ytest_pred)\n",
    "recall = metrics.recall_score(Ytest,Ytest_pred)\n",
    "f1 = metrics.f1_score(Ytest,Ytest_pred)\n",
    "auc= metrics.roc_auc_score(Ytest,Ytest_pred)\n",
    "print('准确率:{:.4f},精确率:{:.4f},召回率:{:.4f},f1-score:{:.4f},auc:{:.4f}'.format(acc,precision,recall,f1,auc))"
   ]
  },
  {
   "cell_type": "code",
   "execution_count": null,
   "metadata": {},
   "outputs": [],
   "source": []
  }
 ],
 "metadata": {
  "kernelspec": {
   "display_name": "Python 3",
   "language": "python",
   "name": "python3"
  },
  "language_info": {
   "codemirror_mode": {
    "name": "ipython",
    "version": 3
   },
   "file_extension": ".py",
   "mimetype": "text/x-python",
   "name": "python",
   "nbconvert_exporter": "python",
   "pygments_lexer": "ipython3",
   "version": "3.5.5"
  },
  "toc": {
   "base_numbering": 1,
   "nav_menu": {},
   "number_sections": true,
   "sideBar": true,
   "skip_h1_title": false,
   "title_cell": "Table of Contents",
   "title_sidebar": "Contents",
   "toc_cell": false,
   "toc_position": {},
   "toc_section_display": true,
   "toc_window_display": false
  }
 },
 "nbformat": 4,
 "nbformat_minor": 2
}
